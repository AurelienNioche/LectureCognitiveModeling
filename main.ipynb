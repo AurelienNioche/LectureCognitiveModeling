{
 "cells": [
  {
   "cell_type": "markdown",
   "metadata": {
    "pycharm": {
     "name": "#%% md\n"
    }
   },
   "source": [
    "# 1. Define your experiment: Task model\n",
    "\n",
    "## Bandit task\n",
    "\n",
    "Parameters: \n",
    "* Number of option ($N$)\n",
    "* Distribution of probability over these options ($\\{p_{reward}(i)\\}_{i\\in N}$)\n",
    "* Number of trials ($T$)"
   ]
  },
  {
   "cell_type": "code",
   "execution_count": 99,
   "outputs": [],
   "source": [
    "import numpy as np\n",
    "import pandas as pd\n",
    "import matplotlib.pyplot as plt\n",
    "import scipy.optimize\n",
    "import statsmodels.stats\n",
    "import scipy.stats\n",
    "\n",
    "EPS = np.finfo(np.float).eps"
   ],
   "metadata": {
    "collapsed": false,
    "pycharm": {
     "name": "#%%\n",
     "is_executing": false
    }
   }
  },
  {
   "cell_type": "code",
   "execution_count": 100,
   "outputs": [],
   "source": [
    "N = 2\n",
    "p = np.array([0.5, 0.75])\n",
    "T = 100"
   ],
   "metadata": {
    "collapsed": false,
    "pycharm": {
     "name": "#%%\n",
     "is_executing": false
    }
   }
  },
  {
   "cell_type": "markdown",
   "source": [
    "# 2. Define your decision-making models: Cognitive model\n",
    "\n",
    "## Random\n",
    "\n",
    "* Decision rule ($\\tau$)\n",
    "\n",
    "\\begin{equation}\n",
    "p_{choice}(i) \\sim \\text{Uniform}\n",
    "\\end{equation} \n",
    "\n",
    "* Updating rule\n",
    "\n",
    "[None]\n",
    "\n",
    "## Rescola-Wagner RL\n",
    "\n",
    "* Decision rule ($\\tau$)\n",
    "\n",
    "\\begin{equation}\n",
    "p_{choice}(i) = \\dfrac{\\exp (v(i)/\\tau)}{\\sum_{j \\in N} \\exp (v(j)/\\tau)} \n",
    "\\end{equation}\n",
    "\n",
    "* Updating rule ($\\alpha$)\n",
    "\n",
    "\\begin{equation}\n",
    "v^{t+1}(i) = v^t(i) + \\alpha(s - v^t(i))\n",
    "\\end{equation}"
   ],
   "metadata": {
    "collapsed": false,
    "pycharm": {
     "name": "#%% md\n"
    }
   }
  },
  {
   "cell_type": "code",
   "execution_count": 101,
   "outputs": [],
   "source": [
    "class Random:\n",
    "    \n",
    "    \"\"\"\n",
    "    No-learning model\n",
    "    \"\"\"\n",
    "    \n",
    "    def __init__(self, n_option):\n",
    "        self.n_option = n_option\n",
    "        self.options = np.arange(n_option)\n",
    "        \n",
    "    def choose(self):\n",
    "        p =  self.decision_rule()\n",
    "        return np.random.choice(self.options, p=p)\n",
    "        \n",
    "    def learn(self, i, success):\n",
    "        self.updating_rule(i, success)\n",
    "    \n",
    "    def decision_rule(self):\n",
    "        return np.ones(self.options) / self.n_option\n",
    "    \n",
    "    def updating_rule(self, i, success):\n",
    "        pass\n",
    "        "
   ],
   "metadata": {
    "collapsed": false,
    "pycharm": {
     "name": "#%%\n",
     "is_executing": false
    }
   }
  },
  {
   "cell_type": "code",
   "execution_count": 102,
   "outputs": [],
   "source": [
    "class RL(Random):\n",
    "    \n",
    "    \"\"\"\n",
    "    Reinforcement learning model\n",
    "    \"\"\"\n",
    "    \n",
    "    def __init__(self, n_option, learning_rate, temp, initial_value=0.5):\n",
    "        super().__init__(n_option)\n",
    "        self.values = np.full(n_option, initial_value)\n",
    "        self.learning_rate = learning_rate\n",
    "        self.temp = temp\n",
    "    \n",
    "    def decision_rule(self):\n",
    "        return np.exp(self.values/self.temp) / \\\n",
    "               np.sum(np.exp(self.values/self.temp))\n",
    "        \n",
    "    def updating_rule(self, i, success):\n",
    "        self.values[i] += self.learning_rate * (success - self.values[i])"
   ],
   "metadata": {
    "collapsed": false,
    "pycharm": {
     "name": "#%%\n",
     "is_executing": false
    }
   }
  },
  {
   "cell_type": "markdown",
   "source": [
    "# 3. Simulate "
   ],
   "metadata": {
    "collapsed": false
   }
  },
  {
   "cell_type": "code",
   "execution_count": 103,
   "outputs": [],
   "source": [
    "np.random.seed(0)\n",
    "\n",
    "learning_rate, temp = 0.01, 0.1\n",
    "\n",
    "agents = {\n",
    "    \"random\": Random(n_option=N),\n",
    "    \"rl\": RL(n_option=N, learning_rate=learning_rate, temp=temp)\n",
    "}\n",
    "\n",
    "model_types = sorted(agents.keys())\n",
    "n_models = len(model_types)\n",
    "\n",
    "choices = {mt: np.zeros(T, dtype=int) for mt in model_types}\n",
    "\n",
    "# Simulate the task\n",
    "for t in range(T):\n",
    "    \n",
    "    for mt in model_types:\n",
    "        \n",
    "        # Determine choice\n",
    "        agent = agents[mt]\n",
    "        op = agent.choose()\n",
    "        \n",
    "        # Determine success\n",
    "        p_success = p[op]\n",
    "        s = np.random.choice([0, 1], p=np.array([1-p_success, p_success]))\n",
    "        \n",
    "        # Make agent learn\n",
    "        agent.learn(i=op, success=s)\n",
    "        \n",
    "        # Backup choice\n",
    "        choices[mt][t] = op\n",
    "    "
   ],
   "metadata": {
    "collapsed": false,
    "pycharm": {
     "name": "#%%\n",
     "is_executing": false
    }
   }
  },
  {
   "cell_type": "code",
   "execution_count": 104,
   "outputs": [
    {
     "data": {
      "text/plain": "<Figure size 432x288 with 2 Axes>",
      "image/png": "[encoded data removed]"
     },
     "metadata": {
      "needs_background": "light"
     },
     "output_type": "display_data"
    }
   ],
   "source": [
    "fig, axes = plt.subplots(ncols=n_models) \n",
    "\n",
    "colors = [f'C{i}' for i in range(n_models)]\n",
    "\n",
    "for i, mt in enumerate(model_types):\n",
    "    ax = axes[i]\n",
    "    ax.scatter(range(T), choices[mt], color=colors[i], alpha=0.2)\n",
    "    ax.set_ylim(-0.02, 1.02)\n",
    "plt.show()"
   ],
   "metadata": {
    "collapsed": false,
    "pycharm": {
     "name": "#%%\n",
     "is_executing": false
    }
   }
  },
  {
   "cell_type": "code",
   "source": [
    "window = 20\n",
    "\n",
    "fig, axes = plt.subplots(ncols=n_models) \n",
    "\n",
    "colors = [f'C{i}' for i in range(n_models)]\n",
    "\n",
    "for i, mt in enumerate(model_types):\n",
    "    ax = axes[i]\n",
    "    ax.plot(pd.Series(choices[mt]).rolling(window).mean(), \n",
    "            color=colors[i], alpha=0.2)\n",
    "    ax.set_ylim(-0.02, 1.02)\n",
    "plt.show()"
   ],
   "metadata": {
    "collapsed": false,
    "pycharm": {
     "name": "#%%\n",
     "is_executing": false
    }
   },
   "execution_count": 105,
   "outputs": [
    {
     "data": {
      "text/plain": "<Figure size 432x288 with 2 Axes>",
      "image/png": "[encoded data removed]"
     },
     "metadata": {
      "needs_background": "light"
     },
     "output_type": "display_data"
    }
   ]
  },
  {
   "cell_type": "code",
   "execution_count": 106,
   "outputs": [
    {
     "name": "stdout",
     "text": [
      "(0.432178356575096, 0.6278216434249041)\n0.36 0.5485062355001471\n(0.6210642720173202, 0.7989357279826798)\n17.64 2.6691498031812692e-05\n"
     ],
     "output_type": "stream"
    }
   ],
   "source": [
    "import statsmodels.stats.proportion \n",
    "import scipy.stats\n",
    "for i, mt in enumerate(model_types):\n",
    "    obs = choices[mt]\n",
    "    k, n = np.sum(obs), len(obs)\n",
    "    print(statsmodels.stats.proportion.proportion_confint(count=k, nobs=n))\n",
    "    freq_yes = k/n\n",
    "    freq_no = 1- freq_yes\n",
    "    chi2, p = scipy.stats.chisquare((k, n-k))\n",
    "    print(chi2, p)"
   ],
   "metadata": {
    "collapsed": false,
    "pycharm": {
     "name": "#%%\n",
     "is_executing": false
    }
   }
  },
  {
   "cell_type": "code",
   "execution_count": null,
   "outputs": [],
   "source": [
    "class Optimizer:\n",
    "    \n",
    "    def __init__(self, objective, task_parameters, \n",
    "                 history,\n",
    "                 model, bounds):\n",
    "        \n",
    "        self.task_parameters = task_parameters\n",
    "        self.objective = objective\n",
    "        self.history = history\n",
    "        self.model = model\n",
    "        self.bounds = bounds\n",
    "    \n",
    "    def _func(self, param):\n",
    "        \n",
    "        return self.objective(self.model, param, self.history, \n",
    "                              **self.task_parameters)\n",
    "        \n",
    "    def run(self):\n",
    "\n",
    "        res = scipy.optimize.differential_evolution(\n",
    "            func=self._func,\n",
    "            bounds=self.bounds)\n",
    "        best_param = res.x\n",
    "        best_value = res.fun\n",
    "        \n",
    "        return best_param, best_value\n"
   ],
   "metadata": {
    "collapsed": false,
    "pycharm": {
     "name": "#%%\n"
    }
   }
  },
  {
   "cell_type": "markdown",
   "source": [
    "Determine le (log) likelihood of your model\n",
    "\n",
    "\\begin{equation}\n",
    "\\log p(D \\mid M, \\theta) = \\sum_{d \\in D} \\log p(d \\mid M, \\theta)\n",
    "\\end{equation}\n"
   ],
   "metadata": {
    "collapsed": false,
    "pycharm": {
     "name": "#%% md\n"
    }
   }
  },
  {
   "cell_type": "code",
   "execution_count": null,
   "outputs": [],
   "source": [
    "def bandit_objective(model,\n",
    "              param,\n",
    "            history,\n",
    "                     n_option):\n",
    "    \n",
    "    n_iteration = len(history)\n",
    "    agent = model(n_option=n_option, *param)\n",
    "\n",
    "    log_likelihood = np.zeros(n_iteration)\n",
    "\n",
    "   # Simulate the task\n",
    "    for t in range(n_iteration):\n",
    "        \n",
    "        choice, success = history[t]\n",
    "        \n",
    "        ps = agent.decision_rule()\n",
    "        p = ps[choice]\n",
    "        \n",
    "        log_likelihood[t] = np.log(p + EPS)\n",
    "        \n",
    "        # Make agent learn\n",
    "        agent.learn(i=choice, success=s)\n",
    "\n",
    "    return np.sum(log_likelihood)"
   ],
   "metadata": {
    "collapsed": false,
    "pycharm": {
     "name": "#%%\n"
    }
   }
  },
  {
   "cell_type": "markdown",
   "source": [
    "\\begin{equation}\n",
    "\\text{BIC} = - 2 \\log p(D\\mid {\\widehat {\\theta }},M) + k \\log(T)\n",
    "\\end{equation}"
   ],
   "metadata": {
    "collapsed": false
   }
  },
  {
   "cell_type": "code",
   "execution_count": null,
   "outputs": [],
   "source": [
    "def bic(ll, k, n_iteration):\n",
    "    return -2 *ll + k * np.log(n_iteration)\n"
   ],
   "metadata": {
    "collapsed": false,
    "pycharm": {
     "name": "#%%\n"
    }
   }
  }
 ],
 "metadata": {
  "kernelspec": {
   "display_name": "Python 3",
   "language": "python",
   "name": "python3"
  },
  "language_info": {
   "codemirror_mode": {
    "name": "ipython",
    "version": 3
   },
   "file_extension": ".py",
   "mimetype": "text/x-python",
   "name": "python",
   "nbconvert_exporter": "python",
   "pygments_lexer": "ipython3",
   "version": "3.7.5"
  },
  "pycharm": {
   "stem_cell": {
    "cell_type": "raw",
    "source": [],
    "metadata": {
     "collapsed": false
    }
   }
  }
 },
 "nbformat": 4,
 "nbformat_minor": 2
}