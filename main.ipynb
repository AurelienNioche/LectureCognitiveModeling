{
 "cells": [
  {
   "cell_type": "markdown",
   "metadata": {
    "pycharm": {
     "name": "#%% md\n"
    }
   },
   "source": [
    "# Task model\n",
    "\n",
    "## Bandit task\n",
    "\n",
    "Parameters: \n",
    "* Number of option ($N$)\n",
    "* Distribution of probability over these options ($\\{p_{reward}(i)\\}_{i\\in N}$)\n",
    "\n",
    "# Cognitive model\n",
    "\n",
    "## Random\n",
    "\n",
    "* Decision rule ($\\tau$)\n",
    "\n",
    "\\begin{equation}\n",
    "p_{choice}(i) \\sim \\text{Uniform}\n",
    "\\end{equation} \n",
    "\n",
    "* Updating rule\n",
    "\n",
    "[None]\n",
    "\n",
    "## Rescola-Wagner\n",
    "\n",
    "* Decision rule ($\\tau$)\n",
    "\n",
    "\\begin{equation}\n",
    "p_{choice}(i) = \\dfrac{\\exp (v(i)/\\tau)}{\\sum_{j \\in N} \\exp (v(j)/\\tau)} \n",
    "\\end{equation}\n",
    "\n",
    "* Updating rule ($\\alpha$)\n",
    "\n",
    "\\begin{equation}\n",
    "v^{t+1}(i) = v^t(i) + \\alpha(s - v^t(i))\n",
    "\\end{equation}"
   ]
  },
  {
   "cell_type": "code",
   "execution_count": null,
   "outputs": [],
   "source": [
    "class Random:\n",
    "    \n",
    "    def __init__(self, n_option):\n",
    "        self.options = np.arange(n_option)\n",
    "        \n",
    "    def choose(self):\n",
    "        return self.decision_rule()\n",
    "    \n",
    "    def learn(self, i, success):\n",
    "        self.updating_rule(i, success)\n",
    "    \n",
    "    def decision_rule(self):\n",
    "        return np.random.random()\n",
    "    \n",
    "    def updating_rule(self, i, success):\n",
    "        pass\n",
    "        "
   ],
   "metadata": {
    "collapsed": false,
    "pycharm": {
     "name": "#%%\n"
    }
   }
  },
  {
   "cell_type": "code",
   "execution_count": null,
   "outputs": [],
   "source": [
    "import numpy as np\n",
    "\n",
    "class RL(Random):\n",
    "    def __init__(self, n_option, learning_rate, temp):\n",
    "        super().__init__(n_option)\n",
    "        self.values = np.zeros(n_option)\n",
    "        self.learning_rate = learning_rate\n",
    "        self.temp = temp\n",
    "    \n",
    "    def decision_rule(self):\n",
    "        p = np.exp(self.values/self.temp) / np.sum(self.values/self.temp)\n",
    "        return np.random.choice(self.options, p=p)\n",
    "        \n",
    "    def updating_rule(self, i, success):\n",
    "        self.values[i] += self.learning_rate * (success - self.values[i])"
   ],
   "metadata": {
    "collapsed": false,
    "pycharm": {
     "name": "#%%\n"
    }
   }
  }
 ],
 "metadata": {
  "kernelspec": {
   "display_name": "Python 3",
   "language": "python",
   "name": "python3"
  },
  "language_info": {
   "codemirror_mode": {
    "name": "ipython",
    "version": 3
   },
   "file_extension": ".py",
   "mimetype": "text/x-python",
   "name": "python",
   "nbconvert_exporter": "python",
   "pygments_lexer": "ipython3",
   "version": "3.7.5"
  },
  "pycharm": {
   "stem_cell": {
    "cell_type": "raw",
    "source": [],
    "metadata": {
     "collapsed": false
    }
   }
  }
 },
 "nbformat": 4,
 "nbformat_minor": 2
}