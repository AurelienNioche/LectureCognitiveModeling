{
 "cells": [
  {
   "cell_type": "markdown",
   "metadata": {
    "slideshow": {
     "slide_type": "slide"
    }
   },
   "source": [
    "<img src=\"img/decisionmaking.png\" width=400>\n",
    "\n",
    "# ELEC-E7851 - Computational User Interface Design\n",
    "# Lecture 10 - Modeling decision making\n",
    "\n",
    "**Aurélien Nioche**\n",
    "\n",
    "Aalto University"
   ]
  },
  {
   "cell_type": "markdown",
   "metadata": {
    "slideshow": {
     "slide_type": "slide"
    }
   },
   "source": [
    "## Preamble\n",
    "\n",
    "<img src=\"img/illustration.jpeg\" width=700>"
   ]
  },
  {
   "cell_type": "markdown",
   "metadata": {
    "slideshow": {
     "slide_type": "slide"
    }
   },
   "source": [
    "<img src=\"img/diagram.jpeg\" width=1000>"
   ]
  },
  {
   "cell_type": "markdown",
   "metadata": {
    "slideshow": {
     "slide_type": "fragment"
    }
   },
   "source": [
    "<div class=\"alert alert-block alert-success\">\n",
    "<h2><img src=\"img/goal.png\" width=20, align=\"left\">&nbsp;Learning objectives</h2>\n",
    "    <br>Learn by a basic example the elementary rules of decision making modeling, including:\n",
    "    <ul>\n",
    "        <li>How to design task and models (see <a href=\"#1.-Task-Model-&-Decision-Making-Models\" class=\"alert-link\">Section 1</a>);\n",
    "        <li>How to conduct exploratory simulations and  (see <a href=\"#2.-Exploratory-Simulations\" class=\"alert-link\">Section 2</a>);\n",
    "        <li>How to fit your models on experimental data and be confident that you can recover the best parameters (see <a href=\"#3.-Parameter-Recovery\" class=\"alert-link\">Section 3</a>);\n",
    "        <li>How to compare the quality of your models given data and be confident that you can recover the best model (see <a href=\"#4.-Model-Recovery\" class=\"alert-link\">Section 4</a>);\n",
    "        <li>How to simulate your experimental results in preparation of a 'real' experiment (see <a href=\"#5.-Fake-Experiment\" class=\"alert-link\">Section 5</a>);\n",
    "    </ul>\n",
    "</div>"
   ]
  },
  {
   "cell_type": "markdown",
   "metadata": {
    "pycharm": {
     "is_executing": true,
     "name": "#%%\n"
    },
    "slideshow": {
     "slide_type": "skip"
    }
   },
   "source": [
    "## Course Overview\n",
    "\n",
    "<img src=\"img/design.png\" width=30, align=\"left\">&nbsp;&nbsp;&nbsp;&nbsp;<span style=\"font-size:2rem; font-weight:bold\"><a href=\"#1.-Task-Model-&-Decision-Making-Models\">1. Task Model &amp; Decision Making Models</a></span>\n",
    "\n",
    "<a href=\"#1.1-Task-definition\">1.1 Task definition</a>\n",
    "\n",
    "<a href=\"#1.2-Models-definition\">1.2 Models definition</a>\n",
    "\n",
    "\n",
    "<img src=\"img/simulation.jpg\" width=50, align=\"left\">&nbsp;<span style=\"font-size:2rem; font-weight:bold\"><a href=\"#2.-Exploratory-Simulations\">2. Exploratory Simulations</a></span>\n",
    "\n",
    "<a href=\"#2.1-Simulate-a-single-agent\">2.1 Simulate a single agent</a>\n",
    "\n",
    "<a href=\"#2.2-Analyse-latent-variables\">2.2 Analyse latent variables</a>\n",
    "\n",
    "<a href=\"#2.3-Simulate-a-population-of-homogeneous-agents\">2.3 Simulate a population of homogeneous agents</a>\n",
    "\n",
    "<a href=\"#2.4-Represent-the-effect-of-the-free-parameters-on-behavior\">2.4 Represent the effect of the free parameters on behavior</a>\n",
    "\n",
    "<img src=\"img/optimization.jpeg\" width=50, align=\"left\">&nbsp;<span style=\"font-size:2rem; font-weight:bold\"><a href=\"#3.-Parameter-Recovery\">3. Parameter Recovery</a></span>\n",
    "\n",
    "<a href=\"#3.1-Define-a-likelihood-function\">3.1 Define a likelihood function</a>\n",
    "\n",
    "<a href=\"#3.2-Choose-a-way-to-search-for-the-best-parameters\">3.2 Choose a way to search for the best parameters</a>\n",
    "\n",
    "<a href=\"#3.3-Try-with-a-single-agent\">3.3 Try with a single agent</a>\n",
    "\n",
    "<a href=\"#3.4-Explore-the-behavior-of-the-likelihood-function-over-the-parameter-space\">3.4 Explore the behavior of the likelihood function over parameter space</a>\n",
    "\n",
    "<a href=\"#3.5-Try-with-a-homogeneous-population\">3.5 Try with a homogeneous population</a>\n",
    "\n",
    "<a href=\"#3.6-Systematize-the-process\">3.6 Systematize the process</a>\n",
    "\n",
    "<img src=\"img/competition.png\" width=50, align=\"left\">&nbsp;<span style=\"font-size:2rem; font-weight:bold\"><a href=\"#4.-Model-Recovery\">4. Model Recovery</a></span>\n",
    "\n",
    "<a href=\"#4.1-Choose-a-metric\">4.1 Choose a metric</a>\n",
    "    \n",
    "<a href=\"#4.2-Try-with-a-single-agent\">4.2 Try with a single agent</a>\n",
    "\n",
    "<a href=\"#4.3-Systematize-the-approach\">4.3 Systematize the approach</a>\n",
    "\n",
    "<img src=\"img/experiment.jpg\" width=30, align=\"left\">&nbsp;&nbsp;&nbsp;&nbsp;<span style=\"font-size:2rem; font-weight:bold\"><a href=\"#5.-Artificial-Experiment\">5. Artificial Experiment</span></a>\n",
    "\n",
    "<a href=\"#5.1-Generate-data\">5.1 Generate data</a>\n",
    "\n",
    "<a href=\"#5.2-Compare-the-models\">5.2 Compare the models</a>\n",
    "\n",
    "<a href=\"#5.3-Study-the-distribution-of-your-best-fit-parameters\">5.3 Study the distribution of your best-fit parameters</a>\n",
    "\n",
    "<a href=\"#5.4-Simulate-with-the-best-fit-parameters\">5.4 Simulate with the best-fit parameters</a>\n",
    "\n",
    "\n",
    "---\n",
    "### Note\n",
    "\n",
    "This lecture is greatly inspired by <a href=\"https://www.ocf.berkeley.edu/~acollins/pdfs/papers/WilsonCollins_modelFitting.pdf\" >Wilson & Collins (2019) </a>."
   ]
  },
  {
   "cell_type": "markdown",
   "metadata": {
    "slideshow": {
     "slide_type": "slide"
    }
   },
   "source": [
    "## 0. Import the modules"
   ]
  },
  {
   "cell_type": "code",
   "execution_count": 1,
   "metadata": {
    "pycharm": {
     "is_executing": true,
     "name": "#%%\n"
    },
    "scrolled": true,
    "slideshow": {
     "slide_type": "fragment"
    }
   },
   "outputs": [],
   "source": [
    "import numpy as np\n",
    "import scipy.optimize\n",
    "import scipy.stats\n",
    "from itertools import product\n",
    "from tqdm import tqdm\n",
    "\n",
    "from utils.decorator import use_pickle\n",
    "import stats.stats as stats\n",
    "import plot.plot as plot"
   ]
  },
  {
   "cell_type": "markdown",
   "metadata": {
    "slideshow": {
     "slide_type": "slide"
    }
   },
   "source": [
    "## 1. Task Model & Decision Making Models\n",
    "<a href=\"#Course-Overview\">Course Overview</a>\n",
    "\n",
    "<img src=\"img/design.png\" width=300>\n",
    "\n",
    "<div class=\"alert alert-block alert-success\">\n",
    "<h3><img src=\"img/goal.png\" width=20, align=\"left\">&nbsp;Section Goal</h3>\n",
    "<ul>\n",
    "    <li>Design the task that will allow you to answer your research question;\n",
    "    <li> Design the decision making models that you want to put in competition.\n",
    "    </ul>\n",
    "</div>"
   ]
  },
  {
   "cell_type": "markdown",
   "metadata": {
    "pycharm": {
     "name": "#%% md\n"
    },
    "slideshow": {
     "slide_type": "slide"
    }
   },
   "source": [
    "### 1.1 Task definition\n",
    "<a href=\"#Course-Overview\">Course Overview</a>\n",
    "\n",
    "<div class=\"alert alert-block alert-info\">\n",
    "<h4><img src=\"img/goal.png\" width=20, align=\"left\">&nbsp;Goal</h4>\n",
    "    <ul>\n",
    "        <li>Define a task that allow you to answer your research question;\n",
    "        <li>Select adequate characteristics (i.e., enough time-steps).\n",
    "    </ul>\n",
    "</div>\n",
    "\n",
    "<img src=\"img/how_to.png\" width=25, align=\"left\">&nbsp;**How to do it?**\n",
    "\n",
    "Let's take as example:"
   ]
  },
  {
   "cell_type": "markdown",
   "metadata": {
    "scrolled": true,
    "slideshow": {
     "slide_type": "slide"
    }
   },
   "source": [
    "**Question**: \"How do people learn the probabilities of rewards given a pool of options?\""
   ]
  },
  {
   "cell_type": "markdown",
   "metadata": {
    "scrolled": true,
    "slideshow": {
     "slide_type": "fragment"
    }
   },
   "source": [
    "<b>Task: <a href=\"https://en.wikipedia.org/wiki/Multi-armed_bandit\">Bandit task</a></b>\n",
    "\n",
    "<img src=\"img/multiarmedbandit.jpg\" width=200>\n",
    "\n",
    "Parameters: \n",
    "* Number of option ($N$)\n",
    "* Distribution of probability over these options ($\\{p_{reward}(i)\\}_{i\\in N}$)\n",
    "* Number of trials ($T$)\n",
    "\n",
    "\n",
    "*Note: In lecture 7, you studied how to solve the bandit problem programmatically aiming for the most optimal result. In this class, we don't aim for optimality but seek to understand how humans solve this type of problem.*"
   ]
  },
  {
   "cell_type": "code",
   "execution_count": 2,
   "metadata": {
    "pycharm": {
     "is_executing": true,
     "name": "#%%\n"
    },
    "scrolled": true,
    "slideshow": {
     "slide_type": "fragment"
    }
   },
   "outputs": [],
   "source": [
    "N = 2\n",
    "P = np.array([0.5, 0.75])\n",
    "T = 500\n",
    "\n",
    "N_SUBJECTS = 30"
   ]
  },
  {
   "cell_type": "markdown",
   "metadata": {
    "pycharm": {
     "name": "#%% md\n"
    },
    "slideshow": {
     "slide_type": "slide"
    }
   },
   "source": [
    "### 1.2 Models definition\n",
    "<a href=\"#Course-Overview\">Course Overview</a>\n",
    "\n",
    "<div class=\"alert alert-block alert-info\">\n",
    "<h4><img src=\"img/goal.png\" width=20, align=\"left\">&nbsp;Goal</h4>\n",
    "    <ul>\n",
    "        <li>Model alternative hypotheses regarding the underlying decision making process.\n",
    "    </ul>\n",
    "</div>\n",
    "\n",
    "<img src=\"img/how_to.png\" width=20, align=\"left\">&nbsp;<b>How to do it?</b>\n",
    "\n",
    "Here, we will consider that each agent has the opportunity at each $t\\in T$ to:\n",
    "* Choose: we will define for each model a \"decision rule\", more precisely, we model a probability distribution over the action choices such as:\n",
    "\\begin{equation}\n",
    "\\forall i: p_{choice}(i) \\in [0, 1] \\wedge \\sum_{i}^N p_{choice}(i) = 1  \n",
    "\\end{equation}\n",
    "\n",
    "* Learn: we will define for each model an \"updating rule\"."
   ]
  },
  {
   "cell_type": "code",
   "execution_count": 3,
   "metadata": {
    "slideshow": {
     "slide_type": "fragment"
    }
   },
   "outputs": [],
   "source": [
    "class GenericPlayer:\n",
    "    \n",
    "    \"\"\"\n",
    "    Generic Player\n",
    "    \"\"\"\n",
    "    \n",
    "    param_labels = ()\n",
    "    fit_bounds = ()\n",
    "\n",
    "    def __init__(self):\n",
    "        self.options = np.arange(N)\n",
    "\n",
    "    def choose(self):\n",
    "        p = self.decision_rule()\n",
    "        return np.random.choice(self.options, p=p)\n",
    "\n",
    "    def learn(self, option, success):\n",
    "        self.updating_rule(option=option, success=success)\n",
    "\n",
    "    def decision_rule(self):\n",
    "        raise NotImplementedError\n",
    "\n",
    "    def updating_rule(self, option, success):\n",
    "        pass"
   ]
  },
  {
   "cell_type": "markdown",
   "metadata": {
    "slideshow": {
     "slide_type": "slide"
    }
   },
   "source": [
    "On this basis, we can define all of our models. Let's begin as simple as possible:\n",
    "\n",
    "\n",
    "**M1. Random selection**\n",
    "\n",
    "<img src=\"img/coin.png\" width=200>\n",
    "\n",
    "* Decision rule:\n",
    "\n",
    "\\begin{equation}\n",
    "p_{choice}(i) = 1/N\n",
    "\\end{equation}"
   ]
  },
  {
   "cell_type": "code",
   "execution_count": 4,
   "metadata": {
    "pycharm": {
     "is_executing": true,
     "name": "#%%\n"
    },
    "scrolled": true,
    "slideshow": {
     "slide_type": "fragment"
    }
   },
   "outputs": [],
   "source": [
    "class Random(GenericPlayer):\n",
    "    \n",
    "    \"\"\"\n",
    "    Random selection\n",
    "    \"\"\"\n",
    "\n",
    "    def __init__(self):\n",
    "        super().__init__()\n",
    "\n",
    "    def decision_rule(self):\n",
    "        return np.ones(N) / N"
   ]
  },
  {
   "cell_type": "markdown",
   "metadata": {
    "pycharm": {
     "name": "#%% md\n"
    },
    "slideshow": {
     "slide_type": "slide"
    }
   },
   "source": [
    "<b>M2. <a href=\"https://en.wikipedia.org/wiki/Win%E2%80%93stay,_lose%E2%80%93switch\">Win-Stay-Loose-Switch</a> (Noisy variant)</b>\n",
    "\n",
    "<img src=\"img/wsls.png\" width=200>\n",
    "\n",
    "* Decision rule ($\\epsilon$)\n",
    "\n",
    "\\begin{equation}\n",
    "p_{choice}(i) = \n",
    "\\begin{cases}\n",
    "1−\\epsilon+\\epsilon / N &\\text{if } r_{t−1} =1 \\wedge c_{t−1} = i,\\\\\n",
    "\\epsilon / N &\\text{if } r_{t−1} =1 \\wedge c_{t−1} \\neq i,\\\\\n",
    "\\dfrac{1−\\epsilon}{N-1} + \\epsilon / N & \\text {otherwise.}\\\\\n",
    "\\end{cases}\n",
    "\\end{equation}"
   ]
  },
  {
   "cell_type": "code",
   "execution_count": 5,
   "metadata": {
    "pycharm": {
     "is_executing": true,
     "name": "#%%\n"
    },
    "slideshow": {
     "slide_type": "fragment"
    }
   },
   "outputs": [],
   "source": [
    "class WSLS(GenericPlayer):\n",
    "    \"\"\"\n",
    "    Win-Stay-Lose-Switch\n",
    "    \"\"\"\n",
    "\n",
    "    param_labels = \"epsilon\",\n",
    "    fit_bounds = (0., 1),\n",
    "\n",
    "    def __init__(self, epsilon):\n",
    "        super().__init__()\n",
    "        self.epsilon = epsilon\n",
    "\n",
    "        self.c = -1\n",
    "        self.r = -1\n",
    "\n",
    "    def decision_rule(self):\n",
    "\n",
    "        if self.c == -1:\n",
    "            return np.ones(N) / N  # First turn\n",
    "\n",
    "        p = np.zeros(N)\n",
    "\n",
    "        p_apply_rule = 1 - self.epsilon # 1 - epsilon: apply the rule\n",
    "        p_random = self.epsilon / N # epsilon: pick up randomly\n",
    "        if self.r:\n",
    "            p[self.options != self.c] = p_random\n",
    "            p[self.c] = 1 - np.sum(p)  # p_apply_rule + p_random\n",
    "        else:\n",
    "            p[self.options != self.c] = p_apply_rule / (N - 1) + p_random\n",
    "            p[self.c] = 1 - np.sum(p)  # p_random\n",
    "\n",
    "        return p\n",
    "\n",
    "    def updating_rule(self, option, success):\n",
    "        self.r = success\n",
    "        self.c = option"
   ]
  },
  {
   "cell_type": "markdown",
   "metadata": {
    "pycharm": {
     "name": "#%% md\n"
    },
    "slideshow": {
     "slide_type": "slide"
    }
   },
   "source": [
    "<b>M3. <a href=\"https://en.wikipedia.org/wiki/Rescorla%E2%80%93Wagner_model\">Rescorla-Wagner</a></b>\n",
    "\n",
    "<img src=\"img/rw_illustration.png\" width=400>\n",
    "\n",
    "* Decision rule ($\\beta$)\n",
    "\n",
    "\\begin{equation}\n",
    "p_{choice}(i) = \\dfrac{\\exp (\\beta Q(i))}{\\sum_{j \\in N} \\exp (\\beta Q(j))} \n",
    "\\end{equation}\n",
    "\n",
    "* Updating rule ($\\alpha$)\n",
    "\n",
    "\\begin{equation}\n",
    "Q^{t+1}(i) = Q^t(i) + \\alpha(s - Q^t(i))\n",
    "\\end{equation}"
   ]
  },
  {
   "cell_type": "code",
   "execution_count": 6,
   "metadata": {
    "pycharm": {
     "is_executing": true,
     "name": "#%%\n"
    },
    "scrolled": true,
    "slideshow": {
     "slide_type": "fragment"
    }
   },
   "outputs": [],
   "source": [
    "class RW(GenericPlayer):\n",
    "    \"\"\"\n",
    "    Rescorla-Wagner\n",
    "    \"\"\"\n",
    "\n",
    "    param_labels = r\"$\\alpha$\", r\"$\\beta$\",\n",
    "    fit_bounds = (0.0, 1.0), (1.0, 20.0),\n",
    "\n",
    "    def __init__(self, q_alpha, q_beta, initial_value=0.5):\n",
    "        super().__init__()\n",
    "        self.q_values = np.full(N, initial_value)\n",
    "        self.q_alpha = q_alpha\n",
    "        self.q_beta = q_beta\n",
    "\n",
    "    def decision_rule(self):\n",
    "        p_soft = np.exp(self.q_beta * self.q_values) / \\\n",
    "                 np.sum(np.exp(self.q_beta * self.q_values))\n",
    "        return p_soft\n",
    "\n",
    "    def updating_rule(self, option, success):\n",
    "        self.q_values[option] += \\\n",
    "            self.q_alpha * (success - self.q_values[option])"
   ]
  },
  {
   "cell_type": "markdown",
   "metadata": {
    "slideshow": {
     "slide_type": "slide"
    }
   },
   "source": [
    "<img src=\"img/status_quo.jpg\" width=400>\n",
    "\n",
    "**M4. Rescorla-Wagner-Choice-Kernel**\n",
    "\n",
    "* Decision rule ($\\beta_q$, $\\beta_c$)\n",
    "\n",
    "\\begin{equation}\n",
    "p_{choice}(i) = \\dfrac{\\exp (\\beta_q Q(i)+ \\beta_c C(i))}{\\sum_{j \\in N} \n",
    "\\exp (\\beta_q Q(j)+ \\beta_c C(j))} \n",
    "\\end{equation}\n",
    "\n",
    "* Updating rule ($\\alpha$)\n",
    "\n",
    "\\begin{align}\n",
    "Q^{t+1}(i) &= Q^t(i) + \\alpha(s - Q^t(i)) \\\\\n",
    "C^{t+1}(i) &= C^t(i) + \\alpha(a^t(i) - C^t(i)) \\\\\n",
    "\\end{align}\n",
    "\n",
    "where $a^t(i) = 1$ if option $i$ selected at time $t$ else 0.\n",
    "\n",
    "*Note: the implementation follows the description given by <a href=\"https://www.ocf.berkeley.edu/~acollins/pdfs/papers/WilsonCollins_modelFitting.pdf\" >Wilson & Collins (2019) </a>.*"
   ]
  },
  {
   "cell_type": "code",
   "execution_count": 7,
   "metadata": {
    "pycharm": {
     "is_executing": true,
     "name": "#%%\n"
    },
    "scrolled": true,
    "slideshow": {
     "slide_type": "fragment"
    }
   },
   "outputs": [],
   "source": [
    "class RWCK(RW):\n",
    "\n",
    "    \"\"\"\n",
    "    Rescorla-Wagner-Choice-Kernel\n",
    "    \"\"\"\n",
    "\n",
    "    param_labels = (\"alpha_q\", \"beta_q\", \"alpha_c\", \"beta_c\")\n",
    "    fit_bounds = (0.0, 1), (1.0, 20.0), (0.0, 1), (1.0, 20.0)\n",
    "\n",
    "    def __init__(self,  q_alpha, q_beta, c_alpha, c_beta):\n",
    "\n",
    "        super().__init__(q_alpha=q_alpha, q_beta=q_beta)\n",
    "        self.c_alpha = c_alpha\n",
    "        self.c_beta = c_beta\n",
    "        self.c_values = np.zeros(N)\n",
    "\n",
    "    def decision_rule(self):\n",
    "\n",
    "        p_soft = np.exp(\n",
    "            (self.q_beta * self.q_values) +\n",
    "            (self.c_beta * self.c_values)\n",
    "        ) / \\\n",
    "             np.sum(np.exp(\n",
    "                 (self.q_beta * self.q_values) +\n",
    "                 (self.c_beta * self.c_values)\n",
    "             ))\n",
    "        return p_soft\n",
    "\n",
    "    def updating_rule(self, option, success):\n",
    "\n",
    "        a = np.zeros(N, dtype=int)\n",
    "        a[option] = 1\n",
    "\n",
    "        self.c_values[:] += \\\n",
    "            self.c_alpha * (a - self.c_values[:])\n",
    "\n",
    "        super().updating_rule(option=option, success=success)"
   ]
  },
  {
   "cell_type": "markdown",
   "metadata": {
    "slideshow": {
     "slide_type": "slide"
    }
   },
   "source": [
    "## 2. Exploratory Simulations\n",
    "\n",
    "<img src=\"img/simulation.jpg\" width=300>\n",
    "\n",
    "<div class=\"alert alert-block alert-danger\">\n",
    "<h3><img src=\"img/warning.png\" width=20, align=\"left\">&nbsp;Warning</h3>\n",
    "    <br>We will describe the procedure only for Rescorla-Wagner, but it should done for <b>all</b> the models in competition.</div>\n",
    "    \n",
    "<div class=\"alert alert-block alert-success\">\n",
    "<h3><img src=\"img/goal.png\" width=20, align=\"left\">&nbsp;Section Goal</h3>\n",
    "<ul>\n",
    "    <li>'Play' with your models;\n",
    "    <li> Be sure that you obtain at least under some conditions what you want to model;\n",
    "    <li> Have a general overview of what your results could look like.\n",
    "    </ul>\n",
    "</div>"
   ]
  },
  {
   "cell_type": "markdown",
   "metadata": {
    "slideshow": {
     "slide_type": "slide"
    }
   },
   "source": [
    "### 2.1 Simulate a single agent\n",
    "<a href=\"#Course-Overview\">Course Overview</a>\n",
    "\n",
    "<div class=\"alert alert-block alert-info\">\n",
    "<h4><img src=\"img/goal.png\" width=20, align=\"left\">&nbsp;Goal</h4>\n",
    "    <ul>\n",
    "        <li>Have a first insight into the expected behavior;\n",
    "        <li>Be sure that your metrics for behavior are adapted.\n",
    "    </ul>\n",
    "</div>\n",
    "\n",
    "<img src=\"img/how_to.png\" width=20, align=\"left\">&nbsp;<b>How to do it?</b>"
   ]
  },
  {
   "cell_type": "code",
   "execution_count": 8,
   "metadata": {
    "pycharm": {
     "is_executing": true,
     "name": "#%%\n"
    },
    "scrolled": true,
    "slideshow": {
     "slide_type": "fragment"
    }
   },
   "outputs": [
    {
     "data": {
      "image/png": "[encoded data removed]",
      "text/plain": [
       "<Figure size 288x288 with 2 Axes>"
      ]
     },
     "metadata": {
      "needs_background": "light"
     },
     "output_type": "display_data"
    }
   ],
   "source": [
    "@use_pickle\n",
    "def run_simulation(seed, agent_model, param=()):\n",
    "\n",
    "    # Seed the pseudo-random number generator\n",
    "    np.random.seed(seed)\n",
    "\n",
    "    # Create the agent\n",
    "    agent = agent_model(*param)\n",
    "\n",
    "    # Data containers\n",
    "    choices = np.zeros(T, dtype=int)\n",
    "    successes = np.zeros(T, dtype=bool)\n",
    "\n",
    "    # Simulate the task\n",
    "    for t in range(T):\n",
    "\n",
    "        # Determine choice\n",
    "        choice = agent.choose()\n",
    "\n",
    "        # Determine success\n",
    "        p_success = P[choice]\n",
    "        success = np.random.choice(\n",
    "            [0, 1],\n",
    "            p=np.array([1 - p_success, p_success]))\n",
    "\n",
    "        # Make agent learn\n",
    "        agent.learn(option=choice, success=success)\n",
    "\n",
    "        # Backup\n",
    "        choices[t] = choice\n",
    "        successes[t] = success\n",
    "\n",
    "    return choices, successes\n",
    "\n",
    "\n",
    "# We will experiment with Rescola-Wagner\n",
    "MODEL_XP = RW\n",
    "\n",
    "# Get data\n",
    "SEED_SINGLE = 0\n",
    "PARAM_SINGLE = np.array([0.10, 10.00])\n",
    "CHOICES_SINGLE, SUCCESSES_SINGLE = \\\n",
    "    run_simulation(agent_model=MODEL_XP, param=PARAM_SINGLE, seed=SEED_SINGLE)\n",
    "\n",
    "# Plot\n",
    "# Begin with the most basic form possible\n",
    "plot.behavior_single_basic(choices=CHOICES_SINGLE,\n",
    "                           successes=SUCCESSES_SINGLE)"
   ]
  },
  {
   "cell_type": "markdown",
   "metadata": {
    "slideshow": {
     "slide_type": "skip"
    }
   },
   "source": [
    "*Note: Additionally, you can create more 'human-readible' plots (here, for instance, you can plot the running means as described in the <a href=\"#S1.-Behavior-visualization\">supplementary section</a>).*"
   ]
  },
  {
   "cell_type": "markdown",
   "metadata": {
    "slideshow": {
     "slide_type": "slide"
    }
   },
   "source": [
    "### 2.2 Analyse latent variables\n",
    "<a href=\"#Course-Overview\">Course Overview</a>\n",
    "\n",
    "<div class=\"alert alert-block alert-info\">\n",
    "<h4><img src=\"img/goal.png\" width=20, align=\"left\">&nbsp;Goal</h4>\n",
    "    <ul>\n",
    "        <li>Observe dynamics of your model.\n",
    "    </ul>\n",
    "</div>\n",
    "\n",
    "<img src=\"img/how_to.png\" width=20, align=\"left\">&nbsp;<b>How to do it?</b>"
   ]
  },
  {
   "cell_type": "code",
   "execution_count": 9,
   "metadata": {
    "pycharm": {
     "is_executing": true,
     "name": "#%%\n"
    },
    "scrolled": true,
    "slideshow": {
     "slide_type": "fragment"
    }
   },
   "outputs": [
    {
     "data": {
      "image/png": "[encoded data removed]",
      "text/plain": [
       "<Figure size 288x720 with 4 Axes>"
      ]
     },
     "metadata": {
      "needs_background": "light"
     },
     "output_type": "display_data"
    }
   ],
   "source": [
    "def latent_variables_rw(choices, successes, param):\n",
    "\n",
    "    \"\"\"\n",
    "    Specific to RW\n",
    "    \"\"\"\n",
    "\n",
    "    # Create the agent\n",
    "    agent = RW(*param)\n",
    "\n",
    "    # Data containers\n",
    "    q_values = np.zeros((T, N))\n",
    "    p_choices = np.zeros((T, N))\n",
    "\n",
    "    # (Re-)Simulate the task\n",
    "    for t in range(T):\n",
    "\n",
    "        # Register values\n",
    "        q_values[t] = agent.q_values\n",
    "\n",
    "        # Register probabilities of choices\n",
    "        p_choices[t] = agent.decision_rule()\n",
    "\n",
    "        # Make agent learn\n",
    "        agent.learn(option=choices[t],\n",
    "                    success=successes[t])\n",
    "\n",
    "    return q_values, p_choices\n",
    "\n",
    "\n",
    "# Get the data\n",
    "Q_VALUES_SINGLE, P_CHOICES_SINGLE = \\\n",
    "    latent_variables_rw(choices=CHOICES_SINGLE,\n",
    "                        successes=SUCCESSES_SINGLE,\n",
    "                        param=PARAM_SINGLE)\n",
    "\n",
    "# Plot\n",
    "plot.latent_variables_rw_and_behavior_single(q_values=Q_VALUES_SINGLE,\n",
    "                                             p_choices=P_CHOICES_SINGLE,\n",
    "                                             choices=CHOICES_SINGLE,\n",
    "                                             successes=SUCCESSES_SINGLE)"
   ]
  },
  {
   "cell_type": "markdown",
   "metadata": {
    "pycharm": {
     "name": "#%% md\n"
    },
    "slideshow": {
     "slide_type": "slide"
    }
   },
   "source": [
    "### 2.3 Simulate a population of homogeneous agents\n",
    "<a href=\"#Course-Overview\">Course Overview</a>\n",
    "\n",
    "<div class=\"alert alert-block alert-info\">\n",
    "<h4><img src=\"img/goal.png\" width=20, align=\"left\">&nbsp;Goal</h4>\n",
    "    <ul>\n",
    "        <li>Evaluate the 'noise' of your behavior by using constant parametrisation;\n",
    "        <li>Get a picture of your expected behavior under the best scenario \n",
    "(you find the best model, and subjects share the same best parameters).\n",
    "    </ul>\n",
    "</div>\n",
    "\n",
    "<img src=\"img/how_to.png\" width=20, align=\"left\">&nbsp;<b>How to do it?</b>\n",
    "\n",
    "- Maintain constant the parameters that you are using (except the seed of your pseudo-random number generator)"
   ]
  },
  {
   "cell_type": "code",
   "execution_count": null,
   "metadata": {
    "pycharm": {
     "is_executing": true,
     "name": "#%%\n"
    },
    "scrolled": true,
    "slideshow": {
     "slide_type": "fragment"
    }
   },
   "outputs": [],
   "source": [
    "@use_pickle\n",
    "def run_sim_pop(model, param, n_subjects, seed):\n",
    "\n",
    "    print(f\"Running simulation for {n_subjects} agents...\")\n",
    "\n",
    "    # Data containers\n",
    "    choices = np.zeros((n_subjects, T), dtype=int)\n",
    "    successes = np.zeros((n_subjects, T), dtype=bool)\n",
    "\n",
    "    for i in tqdm(range(n_subjects)):\n",
    "\n",
    "        # Get choices and successes\n",
    "        c, s = run_simulation(seed=seed[i],\n",
    "                              agent_model=model,\n",
    "                              param=param[i])\n",
    "\n",
    "        # Backup\n",
    "        choices[i] = c\n",
    "        successes[i] = s\n",
    "\n",
    "    return choices, successes\n",
    "\n",
    "\n",
    "@use_pickle\n",
    "def latent_variables_rw_pop(choices, successes, param):\n",
    "\n",
    "    \"\"\"\n",
    "    Specific to RW\n",
    "    \"\"\"\n",
    "\n",
    "    n_subjects = len(choices)\n",
    "\n",
    "    # Data containers\n",
    "    q_values = np.zeros((n_subjects, T, N))\n",
    "    p_choices = np.zeros((n_subjects, T, N))\n",
    "\n",
    "    for i in range(n_subjects):\n",
    "\n",
    "        # Get q-values and choice probabilities\n",
    "        qv, pc = latent_variables_rw(choices=choices[i],\n",
    "                                     successes=successes[i],\n",
    "                                     param=param[i])\n",
    "\n",
    "        # Backup\n",
    "        q_values[i] = qv\n",
    "        p_choices[i] = pc\n",
    "\n",
    "    return q_values, p_choices\n",
    "\n",
    "\n",
    "# Get the data\n",
    "PARAM_HOM_POP = [PARAM_SINGLE for _ in range(N_SUBJECTS)]\n",
    "\n",
    "CHOICES_HOM_POP, SUCCESSES_HOM_POP = \\\n",
    "    run_sim_pop(model=MODEL_XP, \n",
    "                param=PARAM_HOM_POP, \n",
    "                n_subjects=N_SUBJECTS,\n",
    "                seed=np.arange(N_SUBJECTS))\n",
    "\n",
    "Q_VALUES_HOM_POP, P_CHOICES_HOM_POP = \\\n",
    "    latent_variables_rw_pop(choices=CHOICES_HOM_POP,\n",
    "                            successes=SUCCESSES_HOM_POP,\n",
    "                            param=PARAM_HOM_POP)\n",
    "\n",
    "# Plot\n",
    "plot.latent_variables_rw_and_behavior_pop(\n",
    "    q_values=Q_VALUES_HOM_POP, p_choices=P_CHOICES_HOM_POP,\n",
    "    choices=CHOICES_HOM_POP, successes=SUCCESSES_HOM_POP)"
   ]
  },
  {
   "cell_type": "markdown",
   "metadata": {
    "slideshow": {
     "slide_type": "slide"
    }
   },
   "source": [
    "### 2.4 Represent the effect of the free parameters on behavior\n",
    "<a href=\"#Course-Overview\">Course Overview</a>\n",
    "\n",
    "<div class=\"alert alert-block alert-info\">\n",
    "<h4><img src=\"img/goal.png\" width=20, align=\"left\">&nbsp;Goal</h4>\n",
    "    <ul>\n",
    "        <li>Isolate the effect of each parameter;\n",
    "        <li>Notice dynamics that may differ from initial intuitions (e.g., non linear).\n",
    "    </ul>\n",
    "</div>\n",
    "\n",
    "<img src=\"img/how_to.png\" width=20, align=\"left\">&nbsp;<b>How to do it?</b>\n",
    "\n",
    "In our case, we can:\n",
    "* Represent the q-values over time for different learning rates ($\\alpha$)"
   ]
  },
  {
   "cell_type": "code",
   "execution_count": null,
   "metadata": {
    "pycharm": {
     "is_executing": true,
     "name": "#%%\n"
    },
    "scrolled": true,
    "slideshow": {
     "slide_type": "fragment"
    }
   },
   "outputs": [],
   "source": [
    "def rw_alpha_effect(param_values, n_iteration=100):\n",
    "\n",
    "    n_param_values = len(param_values)\n",
    "\n",
    "    values = np.zeros((n_iteration, n_param_values))\n",
    "\n",
    "    for i in range(n_param_values):\n",
    "        agent = RW(\n",
    "            q_alpha=param_values[i],\n",
    "            q_beta=None)\n",
    "        for t in range(n_iteration):\n",
    "\n",
    "            values[t, i] = agent.q_values[0]\n",
    "            agent.learn(option=0, success=1)\n",
    "\n",
    "    return values\n",
    "\n",
    "\n",
    "# Get data\n",
    "PARAM_VALUES = (0.01, 0.1, 0.2, 0.3)\n",
    "Y_VALUES = rw_alpha_effect(PARAM_VALUES)\n",
    "\n",
    "# Plot\n",
    "plot.rw_alpha(param_values=PARAM_VALUES, y_values=Y_VALUES)"
   ]
  },
  {
   "cell_type": "markdown",
   "metadata": {
    "slideshow": {
     "slide_type": "skip"
    }
   },
   "source": [
    " ---"
   ]
  },
  {
   "cell_type": "markdown",
   "metadata": {
    "pycharm": {
     "name": "#%% md\n"
    },
    "slideshow": {
     "slide_type": "slide"
    }
   },
   "source": [
    " * Represent the probability of choice for an option against another depending on the difference of value, for $\\beta$-values"
   ]
  },
  {
   "cell_type": "code",
   "execution_count": null,
   "metadata": {
    "pycharm": {
     "is_executing": true,
     "name": "#%%\n"
    },
    "scrolled": true,
    "slideshow": {
     "slide_type": "fragment"
    }
   },
   "outputs": [],
   "source": [
    "def rw_beta_effect(param_values,\n",
    "                   min_reward=0,\n",
    "                   max_reward=1):\n",
    "\n",
    "    max_diff = max_reward - min_reward\n",
    "    x_values = np.linspace(-max_diff, max_diff, 100)\n",
    "\n",
    "    n_x_values = len(x_values)\n",
    "    n_param_values = len(param_values)\n",
    "\n",
    "    y_values = np.zeros((len(x_values), n_param_values))\n",
    "\n",
    "    for i in range(n_param_values):\n",
    "        for j in range(n_x_values):\n",
    "            x = x_values[j]\n",
    "            beta = param_values[i]\n",
    "            y_values[j, i] = 1 / (1 + np.exp(-beta*x))\n",
    "\n",
    "    return x_values, y_values\n",
    "\n",
    "\n",
    "# Get data\n",
    "PARAM_VALUES = (1.0, 5.0, 10.0, 20.0)\n",
    "X_VALUES, Y_VALUES = rw_beta_effect(PARAM_VALUES)\n",
    "\n",
    "# Plot\n",
    "plot.rw_beta(param_values=PARAM_VALUES,\n",
    "             x_values=X_VALUES, y_values=Y_VALUES)"
   ]
  },
  {
   "cell_type": "markdown",
   "metadata": {
    "slideshow": {
     "slide_type": "slide"
    }
   },
   "source": [
    "## 3. Parameter Recovery\n",
    "<a href=\"#Course-Overview\">Course Overview</a>\n",
    "\n",
    "<img src=\"img/optimization.jpeg\" width=400>\n",
    "\n",
    "<div class=\"alert alert-block alert-danger\">\n",
    "<h3><img src=\"img/warning.png\" width=20, align=\"left\">&nbsp;Warning</h3>\n",
    "<br>\n",
    "    You should operate also exploratory simulations (as described in <a class=\"alert-link\" href=\"#2.-Exploratory-Simulations\">Section 2</a>) for <strong>all</strong> the models in competition before proceeding to parameter recovery.</div>\n",
    "\n",
    "<div class=\"alert alert-block alert-success\">\n",
    "<h3><img src=\"img/goal.png\" width=20, align=\"left\">&nbsp;Section Goal</h3>\n",
    "<ul><li>Be sure that you are able to retrieve the parameters of your model, \n",
    "    assuming that your model is correct.</ul>\n",
    "</div>"
   ]
  },
  {
   "cell_type": "markdown",
   "metadata": {
    "slideshow": {
     "slide_type": "slide"
    }
   },
   "source": [
    "### 3.1 Define a likelihood function\n",
    "<a href=\"#Course-Overview\">Course Overview</a>\n",
    "\n",
    "\n",
    "<div class=\"alert alert-block alert-info\">\n",
    "<h4><img src=\"img/goal.png\" width=20, align=\"left\">&nbsp;Goal</h4>\n",
    "<ul>\n",
    "    <li>Be able to express numerically the likelihood to have obtained the data given a given model and a specific set of parameters.\n",
    "    </ul>\n",
    "</div>\n",
    "\n",
    "<img src=\"img/how_to.png\" width=20, align=\"left\">&nbsp;**How to do it?**\n",
    "\n",
    "* Determine the (log) likelihood of your model:\n",
    "\n",
    "\\begin{equation}\n",
    "\\log p(D \\mid M, \\theta) = \\sum_{d \\in D} \\log p(d \\mid M, \\theta)\n",
    "\\end{equation}\n",
    "\n",
    "*Note: For several reasons (including numerical precision on computers but also easier algebraic manipulation), it is preferable to use the log-likelihood than the likelihood.*"
   ]
  },
  {
   "cell_type": "code",
   "execution_count": null,
   "metadata": {
    "pycharm": {
     "is_executing": true,
     "name": "#%%\n"
    },
    "scrolled": true,
    "slideshow": {
     "slide_type": "fragment"
    }
   },
   "outputs": [],
   "source": [
    "def log_likelihood(model, param, choices, successes):\n",
    "\n",
    "    # Create the agent\n",
    "    agent = model(*param)\n",
    "\n",
    "    # Data container\n",
    "    ll = np.zeros(T)\n",
    "\n",
    "    # Simulate the task\n",
    "    for t in range(T):\n",
    "\n",
    "        # Get choice and success for t\n",
    "        c, s = choices[t], successes[t]\n",
    "\n",
    "        # Look at probability of choice\n",
    "        p_choice = agent.decision_rule()\n",
    "        p = p_choice[c]\n",
    "\n",
    "        # Compute log\n",
    "        ll[t] = np.log(p + np.finfo(np.float).eps)\n",
    "\n",
    "        # Make agent learn\n",
    "        agent.learn(option=c, success=s)\n",
    "\n",
    "    return np.sum(ll)"
   ]
  },
  {
   "cell_type": "markdown",
   "metadata": {
    "pycharm": {
     "name": "#%% md\n"
    },
    "slideshow": {
     "slide_type": "slide"
    }
   },
   "source": [
    "### 3.2 Choose a way to search for the best parameters\n",
    "<a href=\"#Course-Overview\">Course Overview</a>\n",
    "\n",
    "<div class=\"alert alert-block alert-info\">\n",
    "<h4><img src=\"img/goal.png\" width=20, align=\"left\">&nbsp;Goal</h4>\n",
    "<ul><li>Identify a method that allows you to 'easily' identify \n",
    "    the best-fit parameters for each of your models.</ul>\n",
    "<br><i>Note: parameter space can be extremly&mdash;infinitely&mdash;large, so it is impossible to compute all the possibilities: you need to select which are the most interesting set of parameters to test.</i>\n",
    "</div>\n",
    "\n",
    "<img src=\"img/how_to.png\" width=20, align=\"left\">&nbsp;**How to do it?**\n",
    "\n",
    "*Note: In lecture 6, you saw how to use Bayesian optimization. Here, we will use the <a href=\"https://docs.scipy.org/doc/scipy/reference/generated/scipy.optimize.minimize.html\">function 'minimize' from the SciPy package</a>.* "
   ]
  },
  {
   "cell_type": "code",
   "execution_count": null,
   "metadata": {
    "pycharm": {
     "is_executing": true,
     "name": "#%%\n"
    },
    "scrolled": true,
    "slideshow": {
     "slide_type": "fragment"
    }
   },
   "outputs": [],
   "source": [
    "class BanditOptimizer:\n",
    "\n",
    "    \"\"\"\n",
    "    Given a series of choices and successes, and a DM model,\n",
    "    estimate the best-fit param\n",
    "    \"\"\"\n",
    "\n",
    "    def __init__(self, choices, successes, model):\n",
    "\n",
    "        self.choices = choices\n",
    "        self.successes = successes\n",
    "        self.model = model\n",
    "\n",
    "        assert hasattr(model, 'fit_bounds'), \\\n",
    "            f\"{model.__name__} has not 'fit_bounds' attribute\"\n",
    "\n",
    "        self.t = 0\n",
    "\n",
    "    def objective(self, param):\n",
    "        return - log_likelihood(model=self.model,\n",
    "                                choices=self.choices,\n",
    "                                successes=self.successes,\n",
    "                                param=param)\n",
    "\n",
    "    def run(self):\n",
    "\n",
    "        if self.model.fit_bounds:\n",
    "            res = scipy.optimize.minimize(\n",
    "                fun=self.objective,\n",
    "                x0=np.array([(b[1] - b[0])/2 for b in self.model.fit_bounds]),\n",
    "                bounds=self.model.fit_bounds)\n",
    "            assert res.success\n",
    "\n",
    "            best_param = res.x\n",
    "            best_value = res.fun\n",
    "\n",
    "        else:\n",
    "            assert self.model == Random\n",
    "            best_param = ()\n",
    "            best_value = self.objective(())\n",
    "\n",
    "        return best_param, best_value"
   ]
  },
  {
   "cell_type": "markdown",
   "metadata": {
    "pycharm": {
     "name": "#%% md\n"
    },
    "slideshow": {
     "slide_type": "slide"
    }
   },
   "source": [
    "### 3.3 Try with a single agent\n",
    "<a href=\"#Course-Overview\">Course Overview</a>\n",
    "\n",
    "<div class=\"alert alert-block alert-info\">\n",
    "<h4><img src=\"img/goal.png\" width=20, align=\"left\">&nbsp;Goal</h4>\n",
    "\n",
    "<ul><li>Be sure that in the simplest case (single subject), \n",
    "you retrieve close enough parameters.\n",
    "    </ul>\n",
    "    <br><i>Note: At this stage, you will just rely on an intuitive appreciation. A systematized approach is provided at <a href=\"#3.6-Systematize-the-process\" >the end of this section</a>.</i>\n",
    "</div>\n",
    "\n",
    "<img src=\"img/how_to.png\" width=20, align=\"left\">&nbsp;<b>How to do it?</b>\n",
    "\n",
    "* Retrieve the parameters that you used to simulate a single agent"
   ]
  },
  {
   "cell_type": "code",
   "execution_count": null,
   "metadata": {
    "pycharm": {
     "is_executing": true,
     "name": "#%% \n"
    },
    "scrolled": true,
    "slideshow": {
     "slide_type": "fragment"
    }
   },
   "outputs": [],
   "source": [
    "@use_pickle\n",
    "def get_best_param():\n",
    "\n",
    "    # Create optimizer\n",
    "    opt = BanditOptimizer(\n",
    "        choices=CHOICES_SINGLE,\n",
    "        successes=SUCCESSES_SINGLE,\n",
    "        model=MODEL_XP\n",
    "    )\n",
    "\n",
    "    # Run the optimization\n",
    "    best_param, best_value = opt.run()\n",
    "    return best_param\n",
    "\n",
    "\n",
    "# Get the best-fit parameters\n",
    "BEST_PARAM_SINGLE = get_best_param()\n",
    "print(f\"'True' parameters: {tuple(PARAM_SINGLE)}\")\n",
    "print(f\"Best-fit parameters: {tuple(BEST_PARAM_SINGLE)}\\n\")"
   ]
  },
  {
   "cell_type": "markdown",
   "metadata": {
    "slideshow": {
     "slide_type": "skip"
    }
   },
   "source": [
    "---"
   ]
  },
  {
   "cell_type": "markdown",
   "metadata": {
    "slideshow": {
     "slide_type": "slide"
    }
   },
   "source": [
    "* Try to simulate with the best-fit parameters and compare what you obtain:"
   ]
  },
  {
   "cell_type": "code",
   "execution_count": null,
   "metadata": {
    "pycharm": {
     "is_executing": true,
     "name": "#%% \n"
    },
    "scrolled": true,
    "slideshow": {
     "slide_type": "fragment"
    }
   },
   "outputs": [],
   "source": [
    "# New simulation with best-fit parameters\n",
    "CHOICES_SINGLE_BF, SUCCESSES_FIST_BF = \\\n",
    "    run_simulation(seed=SEED_SINGLE + 1, agent_model=MODEL_XP,\n",
    "                   param=BEST_PARAM_SINGLE)\n",
    "\n",
    "# Get the values of the latent variables\n",
    "Q_VALUES_SINGLE_BF, P_CHOICES_SINGLE_BF = \\\n",
    "    latent_variables_rw(choices=CHOICES_SINGLE_BF,\n",
    "                        successes=SUCCESSES_FIST_BF,\n",
    "                        param=BEST_PARAM_SINGLE)\n",
    "\n",
    "# Plot\n",
    "plot.comparison_best_fit_rw_single(\n",
    "    q_values=Q_VALUES_SINGLE, p_choices=P_CHOICES_SINGLE,\n",
    "    choices=CHOICES_SINGLE, successes=SUCCESSES_SINGLE,\n",
    "    choices_bf=CHOICES_SINGLE_BF, successes_bf=SUCCESSES_FIST_BF,\n",
    "    q_values_bf=Q_VALUES_SINGLE_BF, p_choices_bf=P_CHOICES_SINGLE_BF)\n"
   ]
  },
  {
   "cell_type": "markdown",
   "metadata": {
    "slideshow": {
     "slide_type": "slide"
    }
   },
   "source": [
    "### 3.4 Explore the behavior of the likelihood function over the parameter space\n",
    "<a href=\"#Course-Overview\">Course Overview</a>\n",
    "\n",
    "<div class=\"alert alert-block alert-info\">\n",
    "<h4><img src=\"img/goal.png\" width=20, align=\"left\">&nbsp;Goal</h4>\n",
    "    <ul>\n",
    "        <li>Observe the behavior of your likelihood function over the parameter space;\n",
    "        <li>Notify the local minima.\n",
    "    </ul>\n",
    "</div>\n",
    "\n",
    "<img src=\"img/how_to.png\" width=20, align=\"left\">&nbsp;<b>How to do it?</b>\n",
    "\n",
    "* Represent the objective function values over the parameter space (phase diagram):"
   ]
  },
  {
   "cell_type": "code",
   "execution_count": null,
   "metadata": {
    "pycharm": {
     "is_executing": true,
     "name": "#%%\n"
    },
    "scrolled": true,
    "slideshow": {
     "slide_type": "fragment"
    }
   },
   "outputs": [],
   "source": [
    "@use_pickle\n",
    "def parameter_space_exploration(model, choices, successes, grid_size=20):\n",
    "\n",
    "    \"\"\"\n",
    "    Compute likelihood for several combinations of parameters\n",
    "    (using grid exploration)\n",
    "    \"\"\"\n",
    "\n",
    "    print(\"Computing data for parameter space exploration...\")\n",
    "\n",
    "    assert len(model.param_labels) == 2, \\\n",
    "        \"this function is designed for models that have \" \\\n",
    "        \"at least and at most 2 parameters\"\n",
    "    assert hasattr(model, 'fit_bounds'), \\\n",
    "        f\"{model.__name__} has not 'fit_bounds' attribute\"\n",
    "\n",
    "    n_param = len(model.fit_bounds)\n",
    "\n",
    "    parameter_values = np.atleast_2d([\n",
    "                np.linspace(\n",
    "                    *model.fit_bounds[i],\n",
    "                    grid_size) for i in range(n_param)\n",
    "    ])\n",
    "\n",
    "    # Create a grid for each parameter\n",
    "    param_grid = np.asarray(list(\n",
    "            product(*parameter_values)\n",
    "        ))\n",
    "\n",
    "    n_sets = len(param_grid)\n",
    "\n",
    "    # Container for log-likelihood\n",
    "    ll = np.zeros(n_sets)\n",
    "\n",
    "    # Loop over each value of the parameter grid for both parameters\n",
    "    for i in tqdm(range(n_sets)):\n",
    "\n",
    "        # Select the parameter to use\n",
    "        param_to_use = param_grid[i]\n",
    "\n",
    "        # Call the objective function of the optimizer\n",
    "        ll[i] = log_likelihood(\n",
    "            choices=choices,\n",
    "            successes=successes,\n",
    "            model=model,\n",
    "            param=param_to_use)\n",
    "\n",
    "    return parameter_values, ll\n",
    "\n",
    "\n",
    "# Get data\n",
    "PARAM_VALUES, LL = parameter_space_exploration(\n",
    "    model=MODEL_XP,\n",
    "    choices=CHOICES_SINGLE,\n",
    "    successes=SUCCESSES_SINGLE)\n",
    "\n",
    "\n",
    "# Plot phase diagram\n",
    "plot.parameter_space_exploration_2d(\n",
    "    data=LL,\n",
    "    parameter_values=PARAM_VALUES,\n",
    "    param_names=MODEL_XP.param_labels,\n",
    "    true_params=PARAM_SINGLE,\n",
    "    title='Parameter space exploration')"
   ]
  },
  {
   "cell_type": "markdown",
   "metadata": {
    "slideshow": {
     "slide_type": "fragment"
    }
   },
   "source": [
    "<div class=\"alert alert-block alert-danger\">\n",
    "<h2><img src=\"img/warning.png\" width=20, align=\"left\">&nbsp;Warning</h2>\n",
    "    <br>This solution only works if your model has two parameters. For a model having only one parameter, you can represent it by a single curve of the log-likelihood against the parameter value (you can refer to the <a href=\"#S2.-Parameter-space-exploration\" class=\"alert-link\">supplementary</a> for that). For more than two parameters, things get more complicated: you can still do one plot per parameter as shown in the <a href=\"#S2.-Parameter-space-exploration\" class=\"alert-link\">supplementary</a> for the present case, but the interpretation is not always easy.</div>"
   ]
  },
  {
   "cell_type": "markdown",
   "metadata": {
    "pycharm": {
     "name": "#%% md\n"
    },
    "slideshow": {
     "slide_type": "slide"
    }
   },
   "source": [
    "### 3.5 Try with a homogeneous population\n",
    "<a href=\"#Course-Overview\">Course Overview</a>\n",
    "\n",
    "<div class=\"alert alert-block alert-info\">\n",
    "<h4><img src=\"img/goal.png\" width=20, align=\"left\">&nbsp;Goal</h4>\n",
    "    <ul>\n",
    "        <li>Generalize what you observe with a single subject to a homogeneous population.\n",
    "    </ul>\n",
    "        <br><i>Note: At this stage, you will just rely on an intuitive appreciation. A systematized approach is provided at <a href=\"#3.6-Systematize-the-process\" >the end of this section</a>.</i>\n",
    "</div>\n",
    "\n",
    "<img src=\"img/how_to.png\" width=20, align=\"left\">&nbsp;<b>How to do it?</b>\n",
    "\n",
    "- Maintain constant the parameters that you are using (except the seed of your pseudo-random number generator):"
   ]
  },
  {
   "cell_type": "code",
   "execution_count": null,
   "metadata": {
    "pycharm": {
     "is_executing": true,
     "name": "#%%\n"
    },
    "scrolled": true,
    "slideshow": {
     "slide_type": "fragment"
    }
   },
   "outputs": [],
   "source": [
    "# Define as parameter the best-fit parameter for the single agent\n",
    "PARAM_HOM_POP_BF = [BEST_PARAM_SINGLE for _ in range(N_SUBJECTS)]\n",
    "\n",
    "# Get behavior for best-fit\n",
    "CHOICES_HOM_POP_BF, SUCCESSES_HOM_POP_BF = \\\n",
    "    run_sim_pop(model=MODEL_XP, param=PARAM_HOM_POP_BF, n_subjects=N_SUBJECTS, \n",
    "                seeds=np.arange(N_SUBJECTS, N_SUBJECTS+N_SUBJECTS))\n",
    "\n",
    "# Get latent variables values\n",
    "Q_VALUES_HOM_POP_BF, P_CHOICES_HOM_POP_BF = \\\n",
    "    latent_variables_rw_pop(choices=CHOICES_HOM_POP_BF,\n",
    "                            successes=SUCCESSES_HOM_POP_BF,\n",
    "                            param=PARAM_HOM_POP_BF)\n",
    "\n",
    "# Plot\n",
    "plot.comparison_best_fit_rw_pop(\n",
    "    choices=CHOICES_HOM_POP, choices_bf=CHOICES_HOM_POP_BF,\n",
    "    successes=SUCCESSES_HOM_POP, successes_bf=SUCCESSES_HOM_POP_BF,\n",
    "    q_values=Q_VALUES_HOM_POP, q_values_bf=Q_VALUES_HOM_POP_BF,\n",
    "    p_choices=P_CHOICES_HOM_POP, p_choices_bf=P_CHOICES_HOM_POP_BF\n",
    ")"
   ]
  },
  {
   "cell_type": "markdown",
   "metadata": {
    "slideshow": {
     "slide_type": "slide"
    }
   },
   "source": [
    "### 3.6 Systematize the process\n",
    "<a href=\"#Course-Overview\">Course Overview</a>\n",
    "\n",
    "<div class=\"alert alert-block alert-info\">\n",
    "<h4><img src=\"img/goal.png\" width=20, align=\"left\">&nbsp;Goal</h4>\n",
    "    <ul>\n",
    "        <li>Test parameter recovery for a large (enough) set of parameters;\n",
    "        <li>Have a metric of the quality of your parameter recovery (Pearson's r), including statistical assessment of the relevancy.\n",
    "    </ul>\n",
    "</div>\n",
    "\n",
    "<img src=\"img/how_to.png\" width=20, align=\"left\">&nbsp;<b>How to do it?</b>\n",
    "\n",
    "* Represent the parameters used to simulate against the parameters recovered:"
   ]
  },
  {
   "cell_type": "code",
   "execution_count": null,
   "metadata": {
    "pycharm": {
     "is_executing": true,
     "name": "#%%\n"
    },
    "scrolled": true,
    "slideshow": {
     "slide_type": "fragment"
    }
   },
   "outputs": [],
   "source": [
    "@use_pickle\n",
    "def data_param_recovery(model, n_sets, seed):\n",
    "\n",
    "    print(\"Computing data for parameter recovery...\")\n",
    "\n",
    "    # Seed the random number generator\n",
    "    np.random.seed(seed)\n",
    "\n",
    "    # Get the parameters labels\n",
    "    param_labels = model.param_labels\n",
    "    n_param = len(param_labels)\n",
    "\n",
    "    # Data container (2: simulated, retrieved)\n",
    "    param = np.zeros((n_param, 2, n_sets))\n",
    "\n",
    "    # Loop over the number of parameter sets\n",
    "    for set_idx in tqdm(range(n_sets)):\n",
    "\n",
    "        # Select parameter to simulate...\n",
    "        param_to_sim = \\\n",
    "            [np.random.uniform(*b)\n",
    "             for b in model.fit_bounds]\n",
    "\n",
    "        # Simulate\n",
    "        choices, successes = run_simulation(seed=set_idx,\n",
    "                                            agent_model=model,\n",
    "                                            param=param_to_sim)\n",
    "\n",
    "        # Create the optimizer and run it\n",
    "        opt = BanditOptimizer(choices=choices,\n",
    "                              successes=successes,\n",
    "                              model=model)\n",
    "        best_param, best_value = opt.run()\n",
    "\n",
    "        # Backup\n",
    "        for i in range(n_param):\n",
    "            param[i, 0, set_idx] = param_to_sim[i]\n",
    "            param[i, 1, set_idx] = best_param[i]\n",
    "\n",
    "    return param\n",
    "\n",
    "\n",
    "# Get data\n",
    "P_RCV = data_param_recovery(model=MODEL_XP, n_sets=30, seed=234)\n",
    "\n",
    "# Plot\n",
    "plot.parameter_recovery(data=P_RCV,\n",
    "                        param_names=MODEL_XP.param_labels,\n",
    "                        param_bounds=MODEL_XP.fit_bounds)"
   ]
  },
  {
   "cell_type": "markdown",
   "metadata": {
    "slideshow": {
     "slide_type": "skip"
    }
   },
   "source": [
    "---"
   ]
  },
  {
   "cell_type": "markdown",
   "metadata": {
    "slideshow": {
     "slide_type": "slide"
    }
   },
   "source": [
    "* Compute the Pearson's coefficient for each model parameter, and assess the stastistical relevance:"
   ]
  },
  {
   "cell_type": "code",
   "execution_count": null,
   "metadata": {
    "pycharm": {
     "is_executing": true,
     "name": "#%% \n"
    },
    "slideshow": {
     "slide_type": "fragment"
    }
   },
   "outputs": [],
   "source": [
    "# Stats\n",
    "stats.correlation_recovery(data=P_RCV, param_names=MODEL_XP.param_labels)"
   ]
  },
  {
   "cell_type": "markdown",
   "metadata": {
    "slideshow": {
     "slide_type": "slide"
    }
   },
   "source": [
    "\n",
    "## 4. Model Recovery\n",
    "<a href=\"#Course-Overview\">Course Overview</a>\n",
    "\n",
    "<img src=\"img/competition.png\" width=400>\n",
    "\n",
    "\n",
    "<div class=\"alert alert-block alert-danger\">\n",
    "<h3><img src=\"img/warning.png\" width=20, align=\"left\">&nbsp;Warning</h3>\n",
    "    <br>You should operate the process for parameter recovery (as described in <a class=\"alert-link\" href=\"#3.-Parameter-Recovery\">Section 3</a>) for <strong>all</strong> the models in competition before proceeding to model recovery.</div>\n",
    "    \n",
    "<div class=\"alert alert-block alert-success\">\n",
    "<h3><img src=\"img/goal.png\" width=20, align=\"left\">&nbsp;Section Goal</h3>\n",
    "<ul><li>Ensure that each model, when used for simulating, is selected as the best model.</ul>\n",
    "</div>"
   ]
  },
  {
   "cell_type": "markdown",
   "metadata": {
    "slideshow": {
     "slide_type": "slide"
    }
   },
   "source": [
    "### 4.1 Choose a metric\n",
    "<a href=\"#Course-Overview\">Course Overview</a>\n",
    "\n",
    "<div class=\"alert alert-block alert-info\">\n",
    "<h4><img src=\"img/goal.png\" width=20, align=\"left\">&nbsp;Goal</h4>\n",
    "    <ul>\n",
    "        <li>Choose a metric to compare your models.\n",
    "    </ul>\n",
    "</div>\n",
    "\n",
    "<img src=\"img/how_to.png\" width=20, align=\"left\">&nbsp;<b>How to do it?</b>\n",
    "\n",
    "* Before all, define your model space. Here, we will compare:\n",
    "    * Random selection\n",
    "    * Win-Stay-Lose-Switch\n",
    "    * Rescola-Wagner\n",
    "    * Rescola-Wagner-Choice-Kernel"
   ]
  },
  {
   "cell_type": "code",
   "execution_count": null,
   "metadata": {
    "pycharm": {
     "is_executing": true,
     "name": "#%%\n"
    },
    "scrolled": true,
    "slideshow": {
     "slide_type": "fragment"
    }
   },
   "outputs": [],
   "source": [
    "MODELS = Random, WSLS, RW, RWCK\n",
    "MODEL_NAMES = [m.__name__ for m in MODELS]"
   ]
  },
  {
   "cell_type": "markdown",
   "metadata": {
    "pycharm": {
     "name": "#%% md\n"
    },
    "slideshow": {
     "slide_type": "slide"
    }
   },
   "source": [
    "* Then choose a metric to compare your models. Here, we will use the Bayesian Information Criterion (BIC):\n",
    "\\begin{equation}\n",
    "\\text{BIC} = - 2 \\log p(D\\mid {\\widehat {\\theta }},M) + k \\log(T)\n",
    "\\end{equation}\n",
    "\n",
    "*Note: the lowest the BIC score is, the best it is*"
   ]
  },
  {
   "cell_type": "code",
   "execution_count": null,
   "metadata": {
    "pycharm": {
     "is_executing": true,
     "name": "#%% \n"
    },
    "scrolled": true,
    "slideshow": {
     "slide_type": "fragment"
    }
   },
   "outputs": [],
   "source": [
    "def bic(ll, k, n_iteration):\n",
    "    return -2 * ll + k * np.log(n_iteration)"
   ]
  },
  {
   "cell_type": "markdown",
   "metadata": {
    "slideshow": {
     "slide_type": "skip"
    }
   },
   "source": [
    "---"
   ]
  },
  {
   "cell_type": "markdown",
   "metadata": {
    "pycharm": {
     "name": "#%% md\n"
    },
    "slideshow": {
     "slide_type": "slide"
    }
   },
   "source": [
    "* Write a function that allows you, based on a list of choices and successes, to compute the metric for each model:"
   ]
  },
  {
   "cell_type": "code",
   "execution_count": null,
   "metadata": {
    "pycharm": {
     "is_executing": true,
     "name": "#%%\n"
    },
    "scrolled": true,
    "slideshow": {
     "slide_type": "fragment"
    }
   },
   "outputs": [],
   "source": [
    "@use_pickle\n",
    "def optimize_and_compare_single(choices, successes):\n",
    "\n",
    "    n_models = len(MODELS)\n",
    "    bic_scores = np.zeros(n_models)\n",
    "    lls = np.zeros(n_models)\n",
    "    best_params = []\n",
    "\n",
    "    for j in range(n_models):\n",
    "\n",
    "        # Select the model\n",
    "        model_to_fit = MODELS[j]\n",
    "\n",
    "        # Create the optimizer and run it\n",
    "        opt = BanditOptimizer(choices=choices,\n",
    "                              successes=successes,\n",
    "                              model=model_to_fit)\n",
    "        best_param, best_value = opt.run()\n",
    "\n",
    "        # Get log-likelihood for best param\n",
    "        ll = -best_value\n",
    "\n",
    "        # Compute the bic score\n",
    "        bs = bic(ll, k=len(model_to_fit.fit_bounds), n_iteration=T)\n",
    "\n",
    "        # Backup\n",
    "        bic_scores[j] = bs\n",
    "        lls[j] = ll\n",
    "        best_params.append(best_param)\n",
    "\n",
    "    return best_params, lls, bic_scores"
   ]
  },
  {
   "cell_type": "markdown",
   "metadata": {
    "slideshow": {
     "slide_type": "slide"
    }
   },
   "source": [
    "### 4.2 Try with a single agent\n",
    "<a href=\"#Course-Overview\">Course Overview</a>\n",
    "\n",
    "<div class=\"alert alert-block alert-danger\">\n",
    "<h3><img src=\"img/warning.png\" width=20, align=\"left\">&nbsp;Warning</h3>\n",
    "<br>\n",
    "    You should operate this process for <b>all</b> the models in competition (not only for one, even if you think it is the best one).</div>\n",
    "   \n",
    "<div class=\"alert alert-block alert-info\">\n",
    "<h4><img src=\"img/goal.png\" width=20, align=\"left\">&nbsp;Goal</h4>\n",
    "    <ul>\n",
    "        <li>Check that everything is going fine in the most simple case.\n",
    "    </ul>\n",
    "</div>\n",
    "\n",
    "<img src=\"img/how_to.png\" width=20, align=\"left\">&nbsp;<b>How to do it?</b>"
   ]
  },
  {
   "cell_type": "code",
   "execution_count": null,
   "metadata": {
    "pycharm": {
     "is_executing": true,
     "name": "#%% \n"
    },
    "scrolled": true,
    "slideshow": {
     "slide_type": "fragment"
    }
   },
   "outputs": [],
   "source": [
    "def comparison_single_subject():\n",
    "\n",
    "    best_params, lls, bic_scores = \\\n",
    "        optimize_and_compare_single(\n",
    "            choices=CHOICES_SINGLE, successes=SUCCESSES_SINGLE)\n",
    "\n",
    "    print(f\"Model used: {MODEL_XP.__name__}\")\n",
    "    print(\"-\" * 10)\n",
    "\n",
    "    for i in range(len(MODELS)):\n",
    "        print(f\"BIC {MODELS[i].__name__} = {bic_scores[i]:.3f}\")\n",
    "\n",
    "    print()\n",
    "\n",
    "\n",
    "# Compute bic scores for evey model for our initial set of data\n",
    "comparison_single_subject()"
   ]
  },
  {
   "cell_type": "markdown",
   "metadata": {
    "slideshow": {
     "slide_type": "slide"
    }
   },
   "source": [
    "### 4.3 Systematize the approach\n",
    "<a href=\"#Course-Overview\">Course Overview</a>\n",
    "\n",
    "<div class=\"alert alert-block alert-info\">\n",
    "<h4><img src=\"img/goal.png\" width=20, align=\"left\">&nbsp;Goal</h4>\n",
    "    <ul>\n",
    "        <li>Test that you can generalize what you observed with one single individual;\n",
    "        <li>Have a metric of the quality of your model recovery.\n",
    "    </ul>\n",
    "</div>\n",
    "\n",
    "<img src=\"img/how_to.png\" width=20, align=\"left\">&nbsp;<b>How to do it?</b>\n",
    "\n",
    "* Draw a confusion matrix:"
   ]
  },
  {
   "cell_type": "code",
   "execution_count": null,
   "metadata": {
    "pycharm": {
     "is_executing": true
    },
    "scrolled": true,
    "slideshow": {
     "slide_type": "fragment"
    }
   },
   "outputs": [],
   "source": [
    "@use_pickle\n",
    "def data_confusion_matrix(models, n_sets):\n",
    "\n",
    "    print(\"Computing data for confusion matrix...\")\n",
    "\n",
    "    # Number of models\n",
    "    n_models = len(models)\n",
    "\n",
    "    # Data container\n",
    "    confusion_matrix = np.zeros((n_models, n_models))\n",
    "\n",
    "    # Loop over each model\n",
    "    with tqdm(total=n_models*n_sets) as pbar:\n",
    "        for i in range(n_models):\n",
    "\n",
    "            # Select the model\n",
    "            model_to_sim = models[i]\n",
    "\n",
    "            for j in range(n_sets):\n",
    "\n",
    "                # Select parameters to simulate\n",
    "                param_to_sim = \\\n",
    "                    [np.random.uniform(*b)\n",
    "                     for b in model_to_sim.fit_bounds]\n",
    "\n",
    "                # Simulate\n",
    "                choices, successes = \\\n",
    "                    run_simulation(\n",
    "                        seed=j,\n",
    "                        agent_model=model_to_sim,\n",
    "                        param=param_to_sim)\n",
    "\n",
    "                # Compute bic scores\n",
    "                best_params, lls, bic_scores = \\\n",
    "                    optimize_and_compare_single(choices=choices,\n",
    "                                                successes=successes)\n",
    "\n",
    "                # Get minimum value for bic (min => best)\n",
    "                min_ = np.min(bic_scores)\n",
    "\n",
    "                # Get index of models that get best bic\n",
    "                idx_min = np.arange(n_models)[bic_scores == min_]\n",
    "\n",
    "                # Add result in matrix\n",
    "                confusion_matrix[i, idx_min] += 1/len(idx_min)\n",
    "                \n",
    "                # Update progress bar\n",
    "                pbar.update(1)\n",
    "\n",
    "    return confusion_matrix\n",
    "\n",
    "\n",
    "# Data\n",
    "N_SETS_CONF = 100\n",
    "SEED_CONF = 123\n",
    "np.random.seed(SEED_CONF)\n",
    "CONF_MT = data_confusion_matrix(models=MODELS, n_sets=N_SETS_CONF)\n",
    "\n",
    "# Plot\n",
    "plot.confusion_matrix(data=CONF_MT, tick_labels=MODEL_NAMES)"
   ]
  },
  {
   "cell_type": "markdown",
   "metadata": {
    "slideshow": {
     "slide_type": "skip"
    }
   },
   "source": [
    "---"
   ]
  },
  {
   "cell_type": "markdown",
   "metadata": {
    "slideshow": {
     "slide_type": "slide"
    }
   },
   "source": [
    "* Compute adequate statistics to know the robustness of your observations:"
   ]
  },
  {
   "cell_type": "markdown",
   "metadata": {
    "slideshow": {
     "slide_type": "fragment"
    }
   },
   "source": [
    "<img src=\"img/precision_recall.jpeg\" width=800>"
   ]
  },
  {
   "cell_type": "code",
   "execution_count": null,
   "metadata": {
    "pycharm": {
     "is_executing": true
    },
    "scrolled": true,
    "slideshow": {
     "slide_type": "fragment"
    }
   },
   "outputs": [],
   "source": [
    "# Stats\n",
    "stats.classification(CONF_MT, model_names=MODEL_NAMES)"
   ]
  },
  {
   "cell_type": "markdown",
   "metadata": {
    "pycharm": {
     "name": "#%% md\n"
    },
    "slideshow": {
     "slide_type": "slide"
    }
   },
   "source": [
    "## 5. Artificial Experiment\n",
    "<a href=\"#Course-Overview\">Course Overview</a>\n",
    "\n",
    "<img src=\"img/experiment.jpg\" width=300>\n",
    "\n",
    "<div class=\"alert alert-block alert-danger\">\n",
    "<h3><img src=\"img/warning.png\" width=20, align=\"left\">&nbsp;Warning</h3>\n",
    "    <ul>\n",
    "        <li>You should operate the process for model recovery (as described in <a class=\"alert-link\" href=\"#4.-Model-Recovery\">Section 4</a>) for <strong>all</strong> the models in competition before 'faking' actual experiments.\n",
    "        <li> You should conduct 'fake' experiments with <strong>all</strong> the models in competition, even if here, we will conduct an experiment only with the Rescorla-Wagner model. \n",
    "    </ul>\n",
    "</div>\n",
    "\n",
    "\n",
    "\n",
    "<div class=\"alert alert-block alert-success\">\n",
    "<h3><img src=\"img/goal.png\" width=20, align=\"left\">&nbsp;Section Goal</h3>\n",
    "    <ul>\n",
    "    <li>Have an overview about what the results of your experiment could look like, under the assumption that you get the best model, but that there are small variations in the population in terms of parametrization;\n",
    "    <li> Ensure that the metrics of your behavior is adapted;\n",
    "    <li> Be sure that you can retrieve the model in this context;\n",
    "    <li> Have an idea about the distribution of your metrics regarding model selection (log-likelihood sums, BIC);\n",
    "    <li> More generally, it is your last resort before the actual experiment (user study) to avoid bad surprises!\n",
    "    </ul>\n",
    "</div>"
   ]
  },
  {
   "cell_type": "markdown",
   "metadata": {
    "slideshow": {
     "slide_type": "slide"
    }
   },
   "source": [
    "### 5.1 Generate data\n",
    "<a href=\"#Course-Overview\">Course Overview</a>\n",
    "\n",
    "<div class=\"alert alert-block alert-info\">\n",
    "<h4><img src=\"img/goal.png\" width=20, align=\"left\">&nbsp;Goal</h4>\n",
    "    <ul>\n",
    "        <li>Generate data with a population of (relatively enough) heterogenous agents.\n",
    "    </ul>\n",
    "</div>\n",
    "\n",
    "<img src=\"img/how_to.png\" width=20, align=\"left\">&nbsp;<b>How to do it?</b>"
   ]
  },
  {
   "cell_type": "code",
   "execution_count": null,
   "metadata": {
    "pycharm": {
     "is_executing": true
    },
    "scrolled": true,
    "slideshow": {
     "slide_type": "fragment"
    }
   },
   "outputs": [],
   "source": [
    "# Get data\n",
    "SEED_HET_POP = 1234\n",
    "np.random.seed(SEED_HET_POP)\n",
    "\n",
    "# Let's assume a normal distribution of the parameters in the population\n",
    "RW_HET_POP_DIST_PARAM = (0.1, 0.05), (10.0, 0.5)\n",
    "PARAM_HET_POP = \\\n",
    "    [\n",
    "        [np.random.normal(*p) for p in RW_HET_POP_DIST_PARAM]\n",
    "        for _ in range(N_SUBJECTS)\n",
    "    ]\n",
    "\n",
    "CHOICES_HET_POP, SUCCESSES_HET_POP = \\\n",
    "    run_sim_pop(model=MODEL_XP, n_subjects=N_SUBJECTS, param=PARAM_HET_POP, \n",
    "                seed=np.arange(N_SUBJECTS))\n",
    "\n",
    "# Plot behavior\n",
    "plot.behavior_pop(choices=CHOICES_HET_POP, successes=SUCCESSES_HET_POP,\n",
    "                  n_option=N)"
   ]
  },
  {
   "cell_type": "markdown",
   "metadata": {
    "slideshow": {
     "slide_type": "slide"
    }
   },
   "source": [
    "### 5.2 Compare the models\n",
    "<a href=\"#Course-Overview\">Course Overview</a>\n",
    "\n",
    "<div class=\"alert alert-block alert-info\">\n",
    "<h4><img src=\"img/goal.png\" width=20, align=\"left\">&nbsp;Goal</h4>\n",
    "    <ul>\n",
    "        <li> Being sure that in the 'true' context of the experiment, you are able to retrieve the 'best' model.\n",
    "    </ul>\n",
    "</div>\n",
    "\n",
    "<img src=\"img/how_to.png\" width=20, align=\"left\">&nbsp;<b>How to do it?</b>\n",
    "\n",
    "* Plot the distributions of the likelihoods and your  model comparison metric for each model, as well as the frequency with which each model is the most likely and the 'best' based on your metric:"
   ]
  },
  {
   "cell_type": "code",
   "execution_count": null,
   "metadata": {
    "pycharm": {
     "is_executing": true
    },
    "scrolled": true,
    "slideshow": {
     "slide_type": "fragment"
    }
   },
   "outputs": [],
   "source": [
    "@use_pickle\n",
    "def optimize_and_compare_pop(choices, successes):\n",
    "\n",
    "    n_subjects = len(choices)\n",
    "\n",
    "    # Data containers\n",
    "    best_parameters = np.zeros(n_subjects, dtype=object)\n",
    "    lls = np.zeros((n_subjects, len(MODELS)))\n",
    "    bic_scores = np.zeros((n_subjects, len(MODELS)))\n",
    "\n",
    "    # Loop over subjects\n",
    "    for i in tqdm(range(n_subjects)):\n",
    "\n",
    "        # Optimize and compare\n",
    "        best_parameters[i], lls[i], bic_scores[i] = \\\n",
    "            optimize_and_compare_single(choices=choices[i],\n",
    "                                        successes=successes[i])\n",
    "\n",
    "    # Freq and confidence intervals for the barplot\n",
    "    lls_freq, lls_err = stats.freq_and_err(lls)\n",
    "    bic_freq, bic_err = stats.freq_and_err(-bic_scores)\n",
    "\n",
    "    return lls, lls_freq, lls_err,\\\n",
    "        bic_scores, bic_freq, bic_err, \\\n",
    "        best_parameters\n",
    "\n",
    "\n",
    "# Get data\n",
    "LLS_HET, LLS_FREQ_HET, LLS_ERR_HET, \\\n",
    "    BIC_HET, BIC_FQ_HT, BIC_ERR_HET,\\\n",
    "    PARAM_HET_BF = \\\n",
    "    optimize_and_compare_pop(choices=CHOICES_HET_POP,\n",
    "                             successes=SUCCESSES_HET_POP)\n",
    "\n",
    "# Plot\n",
    "plot.model_comparison(\n",
    "    lls=LLS_HET,\n",
    "    lls_freq=LLS_FREQ_HET,\n",
    "    lls_err=LLS_ERR_HET,\n",
    "    bic_scores=BIC_HET,\n",
    "    bic_freq=BIC_FQ_HT,\n",
    "    bic_err=BIC_ERR_HET,\n",
    "    model_names=MODEL_NAMES\n",
    ")"
   ]
  },
  {
   "cell_type": "markdown",
   "metadata": {
    "slideshow": {
     "slide_type": "slide"
    }
   },
   "source": [
    "* Is the model that you used to simulate selected as the best model?"
   ]
  },
  {
   "cell_type": "code",
   "execution_count": null,
   "metadata": {
    "pycharm": {
     "is_executing": true
    },
    "scrolled": true,
    "slideshow": {
     "slide_type": "fragment"
    }
   },
   "outputs": [],
   "source": [
    "# Look at the best model\n",
    "BEST_MODEL_IDX = int(np.argmax(BIC_FQ_HT))\n",
    "BEST_MODEL = MODELS[BEST_MODEL_IDX]\n",
    "\n",
    "# Assume that it should be the one that you used to simulate\n",
    "assert MODEL_XP == BEST_MODEL"
   ]
  },
  {
   "cell_type": "markdown",
   "metadata": {
    "slideshow": {
     "slide_type": "slide"
    }
   },
   "source": [
    "### 5.3 Study the distribution of your best-fit parameters\n",
    "<a href=\"#Course-Overview\">Course Overview</a>\n",
    "\n",
    "<div class=\"alert alert-block alert-info\">\n",
    "<h4><img src=\"img/goal.png\" width=20, align=\"left\">&nbsp;Goal</h4>\n",
    "    <ul>\n",
    "        <li>Have an insight about how your distribution of best-fit parameters should look like.\n",
    "    </ul>\n",
    "</div>\n",
    "\n",
    "<img src=\"img/how_to.png\" width=20, align=\"left\">&nbsp;<b>How to do it?</b>\n",
    "\n",
    "* Plot the distribution of your best-fit parameters:"
   ]
  },
  {
   "cell_type": "code",
   "execution_count": null,
   "metadata": {
    "pycharm": {
     "is_executing": true
    },
    "scrolled": true,
    "slideshow": {
     "slide_type": "fragment"
    }
   },
   "outputs": [],
   "source": [
    "# Retrieve parameters for best model\n",
    "PARAM_HET_BF_BEST_MODEL = np.asarray(\n",
    "    [\n",
    "        PARAM_HET_BF[i][BEST_MODEL_IDX]\n",
    "        for i in range(N_SUBJECTS)\n",
    "    ])\n",
    "\n",
    "# Plot best parameters distribution\n",
    "plot.distribution_best_parameters(PARAM_HET_BF_BEST_MODEL,\n",
    "                                  parameter_names=MODEL_XP.param_labels)"
   ]
  },
  {
   "cell_type": "markdown",
   "metadata": {
    "slideshow": {
     "slide_type": "slide"
    }
   },
   "source": [
    "### 5.4 Simulate with the best-fit parameters\n",
    "<a href=\"#Course-Overview\">Course Overview</a>\n",
    "\n",
    "<div class=\"alert alert-block alert-info\">\n",
    "<h4><img src=\"img/goal.png\" width=20, align=\"left\">&nbsp;Goal</h4>\n",
    "    <ul>\n",
    "        <li>Be sure that in the 'true' context of your experiment, you are able to reproduce the behavior.\n",
    "    </ul>\n",
    "</div>\n",
    "\n",
    "<img src=\"img/how_to.png\" width=20, align=\"left\">&nbsp;<b>How to do it?</b>"
   ]
  },
  {
   "cell_type": "code",
   "execution_count": null,
   "metadata": {
    "pycharm": {
     "is_executing": true
    },
    "scrolled": true,
    "slideshow": {
     "slide_type": "fragment"
    }
   },
   "outputs": [],
   "source": [
    "# Get behavior for best-fit\n",
    "CHOICES_HET_BF, SUCCESSES_HET_BF = \\\n",
    "    run_sim_pop(model=BEST_MODEL, param=PARAM_HET_BF_BEST_MODEL, \n",
    "                n_subjects=N_SUBJECTS, seeds=np.arange(N_SUBJECTS))\n",
    "\n",
    "# Get latent variables values\n",
    "Q_VALUES_HET_BF, P_CHOICES_HET_BF = \\\n",
    "    latent_variables_rw_pop(choices=CHOICES_HET_BF,\n",
    "                            successes=SUCCESSES_HET_BF,\n",
    "                            param=PARAM_HET_BF_BEST_MODEL)\n",
    "\n",
    "plot.post_hoc_sim(\n",
    "    choices=CHOICES_HET_POP,\n",
    "    successes=SUCCESSES_HET_POP,\n",
    "    choices_bf=CHOICES_HET_BF,\n",
    "    successes_bf=SUCCESSES_HET_BF,\n",
    "    q_values_bf=Q_VALUES_HET_BF,\n",
    "    p_choices_bf=P_CHOICES_HET_BF\n",
    ")"
   ]
  },
  {
   "cell_type": "markdown",
   "metadata": {
    "slideshow": {
     "slide_type": "slide"
    }
   },
   "source": [
    "**What do do next?**\n",
    "\n",
    "Experiment with living agents!"
   ]
  },
  {
   "cell_type": "markdown",
   "metadata": {
    "slideshow": {
     "slide_type": "slide"
    }
   },
   "source": [
    "## Additional material\n",
    "<a href=\"#Course-Overview\">Course Overview</a>\n",
    "\n",
    "### S1. Behavior visualization\n",
    "<a href=\"#Course-Overview\">Course Overview</a>\n",
    "\n",
    "* Average individual behavior"
   ]
  },
  {
   "cell_type": "code",
   "execution_count": null,
   "metadata": {
    "scrolled": true,
    "slideshow": {
     "slide_type": "fragment"
    }
   },
   "outputs": [],
   "source": [
    "# Plot averate behavior\n",
    "plot.behavior_single_average(choices=CHOICES_SINGLE,\n",
    "                             successes=SUCCESSES_SINGLE)"
   ]
  },
  {
   "cell_type": "markdown",
   "metadata": {
    "slideshow": {
     "slide_type": "slide"
    }
   },
   "source": [
    "### S2. Parameter space exploration\n",
    "<a href=\"#Course-Overview\">Course Overview</a>\n",
    "\n",
    "* Separate plot for each parameter"
   ]
  },
  {
   "cell_type": "code",
   "execution_count": null,
   "metadata": {
    "scrolled": true,
    "slideshow": {
     "slide_type": "fragment"
    }
   },
   "outputs": [],
   "source": [
    "# Separate plot for each parameter\n",
    "plot.parameter_space_exploration(\n",
    "    data=LL,\n",
    "    param_names=MODEL_XP.param_labels,\n",
    "    true_params=PARAM_SINGLE,\n",
    "    parameter_values=PARAM_VALUES,\n",
    ")"
   ]
  }
 ],
 "metadata": {
  "celltoolbar": "Slideshow",
  "kernelspec": {
   "display_name": "Python 3",
   "language": "python",
   "name": "python3"
  },
  "language_info": {
   "codemirror_mode": {
    "name": "ipython",
    "version": 3
   },
   "file_extension": ".py",
   "mimetype": "text/x-python",
   "name": "python",
   "nbconvert_exporter": "python",
   "pygments_lexer": "ipython3",
   "version": "3.7.5"
  },
  "pycharm": {
   "stem_cell": {
    "cell_type": "raw",
    "metadata": {
     "collapsed": false
    },
    "source": []
   }
  }
 },
 "nbformat": 4,
 "nbformat_minor": 4
}
