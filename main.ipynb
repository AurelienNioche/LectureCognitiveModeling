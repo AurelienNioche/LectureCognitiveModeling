{
 "cells": [
  {
   "cell_type": "markdown",
   "metadata": {},
   "source": [
    "![title](img/decisionmaking.png)\n",
    "\n",
    "# Modeling decision making"
   ]
  },
  {
   "cell_type": "markdown",
   "source": [
    "Begin by the beginning: import the modules"
   ],
   "metadata": {
    "collapsed": false
   }
  },
  {
   "cell_type": "code",
   "execution_count": 31,
   "metadata": {
    "pycharm": {
     "is_executing": false,
     "name": "#%%\n"
    }
   },
   "outputs": [],
   "source": [
    "import os\n",
    "import pickle\n",
    "import numpy as np\n",
    "import matplotlib.pyplot as plt\n",
    "from matplotlib.ticker import MaxNLocator\n",
    "import pandas as pd\n",
    "import scipy.optimize\n",
    "import statsmodels.stats\n",
    "import scipy.stats\n",
    "from tqdm.notebook import tqdm\n",
    "\n",
    "EPS = np.finfo(np.float).eps"
   ]
  },
  {
   "cell_type": "markdown",
   "metadata": {
    "pycharm": {
     "name": "#%% md\n"
    }
   },
   "source": [
    "## 1. Task model & Cognitive models\n",
    "\n",
    "### 1.1 Task definition\n",
    "\n",
    "**Goal**\n",
    "\n",
    "Parameters: \n",
    "* Number of option ($N$)\n",
    "* Distribution of probability over these options ($\\{p_{reward}(i)\\}_{i\\in N}$)\n",
    "* Number of trials ($T$)\n",
    "\n",
    "**Example: Bandit task**\n",
    "\n",
    "![title](img/multiarmedbandit.png)"
   ]
  },
  {
   "cell_type": "code",
   "execution_count": 32,
   "metadata": {
    "pycharm": {
     "is_executing": false,
     "name": "#%%\n"
    }
   },
   "outputs": [],
   "source": [
    "N = 2\n",
    "P = np.array([0.5, 0.75])\n",
    "T = 100"
   ]
  },
  {
   "cell_type": "markdown",
   "metadata": {
    "pycharm": {
     "name": "#%% md\n"
    }
   },
   "source": [
    "# 2. Define your decision-making models: Cognitive model\n",
    "\n",
    "## Random\n",
    "\n",
    "* Decision rule:\n",
    "\n",
    "\\begin{equation}\n",
    "p_{choice}(i) \\sim \\text{Uniform}\n",
    "\\end{equation} \n",
    "\n",
    "* Updating rule\n",
    "\n",
    "[None]\n",
    "\n",
    "## Rescola-Wagner RL\n",
    "\n",
    "* Decision rule ($\\tau$)\n",
    "\n",
    "\\begin{equation}\n",
    "p_{choice}(i) = \\dfrac{\\exp (v(i)/\\tau)}{\\sum_{j \\in N} \\exp (v(j)/\\tau)} \n",
    "\\end{equation}\n",
    "\n",
    "* Updating rule ($\\alpha$)\n",
    "\n",
    "\\begin{equation}\n",
    "v^{t+1}(i) = v^t(i) + \\alpha(s - v^t(i))\n",
    "\\end{equation}\n",
    "\n",
    "# 3. Simulate "
   ]
  },
  {
   "cell_type": "code",
   "execution_count": 40,
   "metadata": {
    "pycharm": {
     "is_executing": false,
     "name": "#%%\n"
    }
   },
   "outputs": [],
   "source": []
  },
  {
   "cell_type": "markdown",
   "metadata": {
    "pycharm": {
     "name": "#%% md\n"
    }
   },
   "source": [
    "Determine the (log) likelihood of your model:\n",
    "\n",
    "\\begin{equation}\n",
    "\\log p(D \\mid M, \\theta) = \\sum_{d \\in D} \\log p(d \\mid M, \\theta)\n",
    "\\end{equation}\n"
   ]
  },
  {
   "cell_type": "markdown",
   "metadata": {},
   "source": [
    "\\begin{equation}\n",
    "\\text{BIC} = - 2 \\log p(D\\mid {\\widehat {\\theta }},M) + k \\log(T)\n",
    "\\end{equation}"
   ]
  },
  {
   "cell_type": "code",
   "execution_count": 46,
   "metadata": {
    "pycharm": {
     "is_executing": false,
     "name": "#%%\n"
    }
   },
   "outputs": [],
   "source": [
    "def bic(ll, k, n_iteration):\n",
    "    return -2 *ll + k * np.log(n_iteration)"
   ]
  }
 ],
 "metadata": {
  "kernelspec": {
   "display_name": "Python 3",
   "language": "python",
   "name": "python3"
  },
  "language_info": {
   "codemirror_mode": {
    "name": "ipython",
    "version": 3
   },
   "file_extension": ".py",
   "mimetype": "text/x-python",
   "name": "python",
   "nbconvert_exporter": "python",
   "pygments_lexer": "ipython3",
   "version": "3.7.5"
  },
  "pycharm": {
   "stem_cell": {
    "cell_type": "raw",
    "source": [],
    "metadata": {
     "collapsed": false
    }
   }
  }
 },
 "nbformat": 4,
 "nbformat_minor": 2
}