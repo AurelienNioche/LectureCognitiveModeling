{
 "cells": [
  {
   "cell_type": "markdown",
   "source": [
    "# 0. Import the necessary libraries"
   ],
   "metadata": {
    "collapsed": false
   }
  },
  {
   "cell_type": "code",
   "execution_count": 370,
   "outputs": [],
   "source": [
    "import os\n",
    "import pickle\n",
    "import numpy as np\n",
    "import matplotlib.pyplot as plt\n",
    "from matplotlib.ticker import MaxNLocator\n",
    "import pandas as pd\n",
    "import scipy.optimize\n",
    "import statsmodels.stats\n",
    "import scipy.stats\n",
    "from tqdm.notebook import tqdm\n",
    "\n",
    "EPS = np.finfo(np.float).eps"
   ],
   "metadata": {
    "collapsed": false,
    "pycharm": {
     "name": "#%%\n",
     "is_executing": false
    }
   }
  },
  {
   "cell_type": "markdown",
   "metadata": {
    "pycharm": {
     "name": "#%% md\n"
    }
   },
   "source": [
    "# 1. Define your experiment: Task model\n",
    "\n",
    "## Bandit task\n",
    "\n",
    "Parameters: \n",
    "* Number of option ($N$)\n",
    "* Distribution of probability over these options ($\\{p_{reward}(i)\\}_{i\\in N}$)\n",
    "* Number of trials ($T$)"
   ]
  },
  {
   "cell_type": "code",
   "execution_count": 371,
   "outputs": [],
   "source": [
    "N = 2\n",
    "P = np.array([0.5, 0.75])\n",
    "T = 200"
   ],
   "metadata": {
    "collapsed": false,
    "pycharm": {
     "name": "#%%\n",
     "is_executing": false
    }
   }
  },
  {
   "cell_type": "markdown",
   "source": [
    "# 2. Define your decision-making models: Cognitive model\n",
    "\n",
    "## Random\n",
    "\n",
    "* Decision rule ($\\tau$)\n",
    "\n",
    "\\begin{equation}\n",
    "p_{choice}(i) \\sim \\text{Uniform}\n",
    "\\end{equation} \n",
    "\n",
    "* Updating rule\n",
    "\n",
    "[None]\n",
    "\n",
    "## Rescola-Wagner RL\n",
    "\n",
    "* Decision rule ($\\tau$)\n",
    "\n",
    "\\begin{equation}\n",
    "p_{choice}(i) = \\dfrac{\\exp (v(i)/\\tau)}{\\sum_{j \\in N} \\exp (v(j)/\\tau)} \n",
    "\\end{equation}\n",
    "\n",
    "* Updating rule ($\\alpha$)\n",
    "\n",
    "\\begin{equation}\n",
    "v^{t+1}(i) = v^t(i) + \\alpha(s - v^t(i))\n",
    "\\end{equation}"
   ],
   "metadata": {
    "collapsed": false,
    "pycharm": {
     "name": "#%% md\n"
    }
   }
  },
  {
   "cell_type": "code",
   "execution_count": 372,
   "outputs": [],
   "source": [
    "class Random:\n",
    "    \n",
    "    \"\"\"\n",
    "    No-learning model\n",
    "    \"\"\"\n",
    "    \n",
    "    def __init__(self, n_option):\n",
    "        self.n_option = n_option\n",
    "        self.options = np.arange(n_option)\n",
    "        \n",
    "    def choose(self):\n",
    "        p =  self.decision_rule()\n",
    "        return np.random.choice(self.options, p=p)\n",
    "        \n",
    "    def learn(self, i, success):\n",
    "        self.updating_rule(i, success)\n",
    "    \n",
    "    def decision_rule(self):\n",
    "        return np.ones(self.n_option) / self.n_option\n",
    "    \n",
    "    def updating_rule(self, i, success):\n",
    "        pass\n",
    "        "
   ],
   "metadata": {
    "collapsed": false,
    "pycharm": {
     "name": "#%%\n",
     "is_executing": false
    }
   }
  },
  {
   "cell_type": "code",
   "execution_count": 373,
   "outputs": [],
   "source": [
    "class RL(Random):\n",
    "    \n",
    "    \"\"\"\n",
    "    Reinforcement learning model\n",
    "    \"\"\"\n",
    "    \n",
    "    def __init__(self, learning_rate, temp, n_option, initial_value=0.5):\n",
    "        super().__init__(n_option=n_option)\n",
    "        self.values = np.full(n_option, initial_value)\n",
    "        self.learning_rate = learning_rate\n",
    "        self.temp = temp\n",
    "    \n",
    "    def decision_rule(self):\n",
    "        # print(\"VALUES\", self.values)\n",
    "        _p = np.exp(self.values/self.temp) / \\\n",
    "               np.sum(np.exp(self.values/self.temp), axis=0)\n",
    "        # print(\"P\", _p)\n",
    "        return _p\n",
    "        \n",
    "    def updating_rule(self, i, success):\n",
    "        self.values[i] += self.learning_rate * (success - self.values[i])"
   ],
   "metadata": {
    "collapsed": false,
    "pycharm": {
     "name": "#%%\n",
     "is_executing": false
    }
   }
  },
  {
   "cell_type": "markdown",
   "source": [
    "# 3. Simulate "
   ],
   "metadata": {
    "collapsed": false
   }
  },
  {
   "cell_type": "code",
   "execution_count": 374,
   "outputs": [],
   "source": [
    "def run_simulation(agent_model, param, n_iteration, n_option,\n",
    "                   prob_dist):\n",
    "    \n",
    "    if param is not None:\n",
    "        agent = agent_model(n_option=n_option, *param)\n",
    "    else:\n",
    "        agent = agent_model(n_option=n_option)\n",
    "    \n",
    "    choices = np.zeros(n_iteration, dtype=int)\n",
    "    successes = np.zeros(n_iteration, dtype=bool)\n",
    "    \n",
    "    # Simulate the task\n",
    "    for t in range(n_iteration):\n",
    "        \n",
    "        # Determine choice\n",
    "        choice = agent.choose()\n",
    "        \n",
    "        # Determine success\n",
    "        p_success = prob_dist[choice]\n",
    "        success = np.random.choice([0, 1], p=np.array([1-p_success, p_success]))\n",
    "        \n",
    "        # Make agent learn\n",
    "        agent.learn(i=choice, success=success)\n",
    "        \n",
    "        # Backup\n",
    "        choices[t] = choice\n",
    "        successes[t] = success\n",
    "    \n",
    "    return choices, successes"
   ],
   "metadata": {
    "collapsed": false,
    "pycharm": {
     "name": "#%%\n",
     "is_executing": false
    }
   }
  },
  {
   "cell_type": "code",
   "execution_count": 375,
   "outputs": [],
   "source": [
    "np.random.seed(0)\n",
    "\n",
    "learning_rate, temp = 0.01, 0.1\n",
    "\n",
    "models = Random, RL\n",
    "params = None, (learning_rate, temp)\n",
    "\n",
    "n_models = len(models)\n",
    "\n",
    "hist_choices = {}\n",
    "hist_successes = {}\n",
    "\n",
    "# Simulate the task\n",
    "for i in range(n_models):\n",
    "    \n",
    "    m = models[i]\n",
    "    \n",
    "    choices, successes = run_simulation(\n",
    "        agent_model=m, param=params[i],\n",
    "        n_iteration=T, n_option=N, prob_dist=P)\n",
    "    \n",
    "    hist_choices[m.__name__] = choices\n",
    "    hist_successes[m.__name__] = successes"
   ],
   "metadata": {
    "collapsed": false,
    "pycharm": {
     "name": "#%%\n",
     "is_executing": false
    }
   }
  },
  {
   "cell_type": "code",
   "execution_count": 376,
   "outputs": [
    {
     "data": {
      "text/plain": "<Figure size 720x288 with 2 Axes>",
      "image/png": "[encoded data removed]"
     },
     "metadata": {
      "needs_background": "light"
     },
     "output_type": "display_data"
    }
   ],
   "source": [
    "def basic_scatter(data, y_label=\"choice\", x_label=\"time\"):\n",
    "\n",
    "    keys = sorted(data.keys())\n",
    "    n_keys = len(keys)\n",
    "\n",
    "    fig, axes = plt.subplots(ncols=n_keys, figsize=(10, 4))\n",
    "\n",
    "    colors = [f'C{i}' for i in range(n_keys)]\n",
    "\n",
    "    for i in range(n_keys):\n",
    "\n",
    "        k = keys[i]\n",
    "        y = data[k]\n",
    "\n",
    "        ax = axes[i]\n",
    "        ax.scatter(range(len(y)), y, color=colors[i],\n",
    "                   alpha=0.2, label=k)\n",
    "\n",
    "        ax.set_ylim(-0.02, 1.02)\n",
    "        ax.yaxis.set_major_locator(MaxNLocator(integer=True))\n",
    "\n",
    "        ax.set_xlabel(x_label)\n",
    "        ax.set_ylabel(y_label)\n",
    "        ax.legend()\n",
    "\n",
    "    plt.tight_layout()\n",
    "    plt.show()\n",
    "\n",
    "basic_scatter(data=hist_choices)"
   ],
   "metadata": {
    "collapsed": false,
    "pycharm": {
     "name": "#%%\n",
     "is_executing": false
    }
   }
  },
  {
   "cell_type": "code",
   "source": [
    "def running_mean(data, y_label='choice', x_label=\"time\", window=20):\n",
    "\n",
    "    keys = sorted(data.keys())\n",
    "    n_keys = len(keys)\n",
    "\n",
    "    fig, axes = plt.subplots(ncols=n_keys)\n",
    "\n",
    "    colors = [f'C{i}' for i in range(n_keys)]\n",
    "\n",
    "    for i in range(n_keys):\n",
    "\n",
    "        k = keys[i]\n",
    "\n",
    "        y = data[k]\n",
    "\n",
    "        ax = axes[i]\n",
    "        ax.plot(pd.Series(y).rolling(window).mean(),\n",
    "                color=colors[i], alpha=0.2, label=k)\n",
    "        ax.set_ylim(-0.02, 1.02)\n",
    "\n",
    "        ax.set_xlabel(x_label)\n",
    "        ax.set_ylabel(y_label)\n",
    "\n",
    "        ax.legend()\n",
    "    plt.tight_layout()\n",
    "    plt.show()\n",
    "\n",
    "running_mean(data=hist_choices)"
   ],
   "metadata": {
    "collapsed": false,
    "pycharm": {
     "name": "#%%\n",
     "is_executing": false
    }
   },
   "execution_count": 377,
   "outputs": [
    {
     "data": {
      "text/plain": "<Figure size 432x288 with 2 Axes>",
      "image/png": "[encoded data removed]"
     },
     "metadata": {
      "needs_background": "light"
     },
     "output_type": "display_data"
    }
   ]
  },
  {
   "cell_type": "code",
   "execution_count": 378,
   "outputs": [
    {
     "name": "stdout",
     "text": [
      "(0.46587479048428926, 0.6041252095157108)\n0.98 0.3221988061625787\n(0.6792095123764601, 0.8007904876235399)\n46.08 1.1352143584921967e-11\n"
     ],
     "output_type": "stream"
    }
   ],
   "source": [
    "import statsmodels.stats.proportion \n",
    "import scipy.stats\n",
    "for i in range(n_models):\n",
    "    \n",
    "    m = models[i]\n",
    "    choices = hist_choices[m.__name__]\n",
    "    \n",
    "    k, n = np.sum(choices), len(choices)\n",
    "    print(statsmodels.stats.proportion.proportion_confint(count=k, nobs=n))\n",
    "    freq_yes = k/n\n",
    "    freq_no = 1- freq_yes\n",
    "    chi2, p = scipy.stats.chisquare((k, n-k))\n",
    "    print(chi2, p)"
   ],
   "metadata": {
    "collapsed": false,
    "pycharm": {
     "name": "#%%\n",
     "is_executing": false
    }
   }
  },
  {
   "cell_type": "code",
   "execution_count": 379,
   "outputs": [],
   "source": [
    "class BanditOptimizer:\n",
    "    \n",
    "    def __init__(self,\n",
    "                 n_option, \n",
    "                 choices,\n",
    "                 successes,\n",
    "                 model, bounds=None):\n",
    "        \n",
    "        self.n_option = n_option\n",
    "        self.choices = choices\n",
    "        self.successes = successes\n",
    "        self.model = model\n",
    "        self.bounds = bounds\n",
    "\n",
    "    def objective(self, param):\n",
    " \n",
    "        n_iteration = len(choices)\n",
    "        agent = self.model(n_option=self.n_option, *param)\n",
    "    \n",
    "        log_likelihood = np.zeros(n_iteration)\n",
    "    \n",
    "       # Simulate the task\n",
    "        for t in range(n_iteration):\n",
    "            \n",
    "            choice, success = choices[t], successes[t]\n",
    "            \n",
    "            ps = agent.decision_rule()\n",
    "            p_choice = ps[choice]\n",
    "            \n",
    "            log_likelihood[t] = np.log(p_choice + EPS)\n",
    "            \n",
    "            # Make agent learn\n",
    "            agent.learn(i=choice, success=success)\n",
    "        \n",
    "        lls = np.sum(log_likelihood)\n",
    "        v = -lls\n",
    "        print(\"param objec\", param, f\"v{v:.3f}\")\n",
    "        return v\n",
    "    \n",
    "    def _func(self, param):\n",
    "        return self.objective(param)\n",
    "        \n",
    "    def run(self):\n",
    "\n",
    "        res = scipy.optimize.minimize(\n",
    "            fun=self._func,\n",
    "            x0=np.full(len(self.bounds), 0.5),\n",
    "            bounds=self.bounds)\n",
    "        assert res.success\n",
    "        print(\"resx\", res.x)\n",
    "        best_param = res.x\n",
    "        best_value = res.fun\n",
    "        \n",
    "        return best_param, best_value\n"
   ],
   "metadata": {
    "collapsed": false,
    "pycharm": {
     "name": "#%%\n",
     "is_executing": false
    }
   }
  },
  {
   "cell_type": "markdown",
   "source": [
    "Determine le (log) likelihood of your model\n",
    "\n",
    "\\begin{equation}\n",
    "\\log p(D \\mid M, \\theta) = \\sum_{d \\in D} \\log p(d \\mid M, \\theta)\n",
    "\\end{equation}\n"
   ],
   "metadata": {
    "collapsed": false,
    "pycharm": {
     "name": "#%% md\n"
    }
   }
  },
  {
   "cell_type": "code",
   "execution_count": 379,
   "outputs": [],
   "source": [],
   "metadata": {
    "collapsed": false,
    "pycharm": {
     "name": "#%%\n",
     "is_executing": false
    }
   }
  },
  {
   "cell_type": "markdown",
   "source": [
    "\n",
    "Parameter recovery"
   ],
   "metadata": {
    "collapsed": false
   }
  },
  {
   "cell_type": "code",
   "execution_count": 380,
   "outputs": [],
   "source": [
    "def param_recovery(\n",
    "        param_labels=(\"alpha\", \"beta\"),\n",
    "        bounds =((0, 1), (0.01, 1))):\n",
    "    \n",
    "    n_sets = 2\n",
    "    \n",
    "    n_param = len(param_labels)\n",
    "    \n",
    "    param = { \n",
    "        k: np.zeros((2, n_sets)) for k in param_labels\n",
    "    }\n",
    "    \n",
    "    for set_idx in tqdm(range(n_sets)):\n",
    "        \n",
    "        param_to_simulate = np.zeros(2)\n",
    "        \n",
    "        for param_idx in range(n_param):\n",
    "            \n",
    "            v = np.random.uniform(*bounds[param_idx])\n",
    "            \n",
    "            param[param_labels[param_idx]][0, set_idx] = v\n",
    "            param_to_simulate[param_idx] = v \n",
    "        \n",
    "        choices, successes = \\\n",
    "            run_simulation(\n",
    "                agent_model=RL, \n",
    "                param=param_to_simulate, \n",
    "                n_iteration=T, \n",
    "                n_option=N,\n",
    "                prob_dist=P\n",
    "            )\n",
    "        \n",
    "        #print(\"choices\", choices)\n",
    "        # print(\"successes\", successes)\n",
    "        \n",
    "        opt = BanditOptimizer(\n",
    "            n_option=N,\n",
    "            choices=choices,\n",
    "            successes=successes,\n",
    "            model=RL,\n",
    "            bounds=bounds\n",
    "        )\n",
    "        best_param, best_value = opt.run()\n",
    "        \n",
    "        # print()\n",
    "        print(\"param to simulate\", param_to_simulate, \"best param\", best_param)\n",
    "        \n",
    "        for param_idx in range(n_param):\n",
    "            param[param_labels[param_idx]][1, set_idx] = best_param[param_idx]\n",
    "        \n",
    "        print(\"======================================\")\n",
    "    \n",
    "    return param"
   ],
   "metadata": {
    "collapsed": false,
    "pycharm": {
     "name": "#%%\n",
     "is_executing": false
    }
   }
  },
  {
   "cell_type": "code",
   "execution_count": 381,
   "outputs": [
    {
     "data": {
      "text/plain": "HBox(children=(IntProgress(value=0, max=2), HTML(value='')))",
      "application/vnd.jupyter.widget-view+json": {
       "version_major": 2,
       "version_minor": 0,
       "model_id": "f70a7798e4cc48c68aa2ed78e40a55ed"
      }
     },
     "metadata": {},
     "output_type": "display_data"
    },
    {
     "name": "stdout",
     "text": [
      "param objec [0.5 0.5] v129.820\nparam objec [0.50000001 0.5       ] v129.820\nparam objec [0.5        0.50000001] v129.820\nparam objec [0. 1.] v138.629\nparam objec [1.e-08 1.e+00] v138.629\nparam objec [0.         1.00000001] v138.629\nparam objec [0.24757683 0.75242317] v125.027\nparam objec [0.24757684 0.75242317] v125.027\nparam objec [0.24757683 0.75242318] v125.027\nparam objec [0.         0.74466609] v138.629\nparam objec [1.00000000e-08 7.44666092e-01] v138.629\nparam objec [0.        0.7446661] v138.629\nparam objec [0.15251879 0.74944481] v122.968\n",
      "param objec [0.1525188  0.74944481] v122.968\nparam objec [0.15251879 0.74944482] v122.968\nparam objec [0.05812621 0.7464873 ] v121.376\nparam objec [0.05812622 0.7464873 ] v121.376\nparam objec [0.05812621 0.74648731] v121.376\nparam objec [0.09491826 0.63317076] v119.639\nparam objec [0.09491827 0.63317076] v119.639\nparam objec [0.09491826 0.63317077] v119.639\nparam objec [0.24351932 0.01      ] v1416.571\nparam objec [0.24351933 0.01      ] v1416.571\nparam objec [0.24351932 0.01000001] v1416.570\nparam objec [0.14297297 0.43164939] v117.853\nparam objec [0.14297298 0.43164939] v117.853\nparam objec [0.14297297 0.4316494 ] v117.853\nparam objec [0.02498287 0.01      ] v893.414\nparam objec [0.02498288 0.01      ] v893.414\nparam objec [0.02498287 0.01000001] v893.413\nparam objec [0.10412157 0.29281006] v114.403\nparam objec [0.10412158 0.29281006] v114.403\nparam objec [0.10412157 0.29281007] v114.403\nparam objec [0.   0.01] v138.629\nparam objec [1.e-08 1.e-02] v138.628\nparam objec [0.         0.01000001] v138.629\nparam objec [0.06383396 0.18338277] v114.836\n",
      "param objec [0.06383397 0.18338277] v114.836\nparam objec [0.06383396 0.18338278] v114.836\nparam objec [0.08485802 0.2404873 ] v113.602\nparam objec [0.08485803 0.2404873 ] v113.602\nparam objec [0.08485802 0.24048731] v113.602\nparam objec [0.   0.01] v138.629\nparam objec [1.e-08 1.e-02] v138.628\nparam objec [0.         0.01000001] v138.629\nparam objec [0.05596998 0.16202299] v116.473\nparam objec [0.05596999 0.16202299] v116.473\nparam objec [0.05596998 0.162023  ] v116.473\nparam objec [0.0829791  0.23538389] v113.592\nparam objec [0.08297911 0.23538389] v113.592\nparam objec [0.0829791 0.2353839] v113.592\nparam objec [0.   0.01] v138.629\nparam objec [1.e-08 1.e-02] v138.628\nparam objec [0.         0.01000001] v138.629\nparam objec [0.05533384 0.16029514] v116.648\nparam objec [0.05533385 0.16029514] v116.648\nparam objec [0.05533384 0.16029515] v116.648\nparam objec [0.08283626 0.23499592] v113.592\nparam objec [0.08283627 0.23499592] v113.592\nparam objec [0.08283626 0.23499593] v113.592\nparam objec [0.   0.01] v138.629\nparam objec [1.e-08 1.e-02] v138.628\nparam objec [0.         0.01000001] v138.629\nparam objec [0.05528703 0.16016798] v116.661\nparam objec [0.05528704 0.16016798] v116.661\nparam objec [0.05528703 0.16016799] v116.661\nparam objec [0.0828297  0.23497809] v113.592\nparam objec [0.08282971 0.23497809] v113.592\n",
      "param objec [0.0828297 0.2349781] v113.592\nresx [0.0828297  0.23497809]\nparam to simulate [0.0399928  0.64330806] best param [0.0828297  0.23497809]\n======================================\n",
      "param objec [0.5 0.5] v129.820\nparam objec [0.50000001 0.5       ] v129.820\nparam objec [0.5        0.50000001] v129.820\nparam objec [0. 1.] v138.629\nparam objec [1.e-08 1.e+00] v138.629\nparam objec [0.         1.00000001] v138.629\nparam objec [0.24757683 0.75242317] v125.027\nparam objec [0.24757684 0.75242317] v125.027\nparam objec [0.24757683 0.75242318] v125.027\nparam objec [0.         0.74466609] v138.629\nparam objec [1.00000000e-08 7.44666092e-01] v138.629\nparam objec [0.        0.7446661] v138.629\nparam objec [0.15251879 0.74944481] v122.968\nparam objec [0.1525188  0.74944481] v122.968\nparam objec [0.15251879 0.74944482] v122.968\nparam objec [0.05812621 0.7464873 ] v121.376\nparam objec [0.05812622 0.7464873 ] v121.376\nparam objec [0.05812621 0.74648731] v121.376\nparam objec [0.09491826 0.63317076] v119.639\nparam objec [0.09491827 0.63317076]",
      " v119.639\nparam objec [0.09491826 0.63317077] v119.639\nparam objec [0.24351932 0.01      ] v1416.571\nparam objec [0.24351933 0.01      ] v1416.571\nparam objec",
      " [0.24351932 0.01000001] v1416.570\nparam objec [0.14297297 0.43164939] v117.853\nparam objec [0.14297298 0.43164939] v117.853\nparam objec [0.14297297 0.4316494 ] v117.853\nparam objec [0.02498287 0.01      ] v893.414\nparam objec [0.02498288 0.01      ] v893.414\nparam objec [0.02498287 0.01000001] v893.413\nparam objec [0.10412157 0.29281006] v114.403\nparam objec [0.10412158 0.29281006] v114.403\nparam objec [0.10412157 0.29281007] v114.403\nparam objec [0.   0.01] v138.629\nparam objec [1.e-08 1.e-02] v138.628\nparam objec [0.         0.01000001] v138.629\nparam objec [0.06383396 0.18338277] v114.836\nparam objec [0.06383397 0.18338277] v114.836\nparam objec [0.06383396 0.18338278] v114.836\nparam objec [0.08485802 0.2404873 ] v113.602\nparam objec [0.08485803 0.2404873 ] v113.602\nparam objec [0.08485802 0.24048731] v113.602\nparam objec [0.   0.01] v138.629\nparam objec [1.e-08 1.e-02] v138.628\nparam objec [0.         0.01000001] v138.629\nparam objec [0.05596998 0.16202299] v116.473\nparam objec [0.05596999 0.16202299] v116.473\nparam objec [0.05596998 0.162023  ] v116.473\nparam objec [0.0829791  0.23538389] v113.592\nparam objec [0.08297911 0.23538389] v113.592\nparam objec [0.0829791 0.2353839] v113.592\nparam objec [0.   0.01] v138.629\nparam objec [1.e-08 1.e-02] v138.628\nparam objec [0.         0.01000001] v138.629\nparam objec [0.05533384 0.16029514] v116.648\nparam objec [0.05533385 0.16029514] v116.648\nparam objec [0.05533384 0.16029515] v116.648\nparam objec [0.08283626 0.23499592] v113.592\nparam objec [0.08283627 0.23499592] v113.592\nparam objec",
      " [0.08283626 0.23499593] v113.592\nparam objec [0.   0.01] v138.629\nparam objec [1.e-08 1.e-02] v138.628\nparam objec [0.         0.01000001] v138.629\nparam objec [0.05528703 0.16016798] v116.661\nparam objec [0.05528704 0.16016798] v116.661\nparam objec [0.05528703 0.16016799] v116.661\nparam objec [0.0828297  0.23497809] v113.592\nparam objec [0.08282971 0.23497809] v113.592\nparam objec [0.0828297 0.2349781] v113.592\nresx [0.0828297  0.23497809]\nparam to simulate [0.88826504 0.86170757] best param [0.0828297  0.23497809]\n======================================\n\n"
     ],
     "output_type": "stream"
    }
   ],
   "source": [
    "BKP_FOLDER = \"bkp\"\n",
    "os.makedirs(BKP_FOLDER, exist_ok=True)\n",
    "bkp_file = os.path.join(BKP_FOLDER, \"param_recovery.p\")\n",
    "force = True\n",
    "\n",
    "if not os.path.exists(bkp_file) or force:\n",
    "    param_rcv = param_recovery()\n",
    "    pickle.dump(param_rcv, open(bkp_file, 'wb'))\n",
    "\n",
    "else:\n",
    "    param_rcv = pickle.load(open(bkp_file, 'rb'))"
   ],
   "metadata": {
    "collapsed": false,
    "pycharm": {
     "name": "#%%\n",
     "is_executing": false
    }
   }
  },
  {
   "cell_type": "code",
   "execution_count": 382,
   "outputs": [],
   "source": [
    "def scatter(data):\n",
    "    \n",
    "    keys = sorted(data.keys())\n",
    "    n_keys = len(keys)\n",
    "    \n",
    "    # Create fig\n",
    "    fig, axes = plt.subplots(ncols=n_keys, figsize=(5, 10))\n",
    "\n",
    "    for i in range(n_keys):\n",
    "\n",
    "        ax = axes[i]\n",
    "        k = keys[i]\n",
    "        \n",
    "        title = k\n",
    "                \n",
    "        x, y = data[k]\n",
    "\n",
    "        ax.scatter(x, y, alpha=0.5)\n",
    "\n",
    "        ax.set_title(title)\n",
    "\n",
    "        # max_ = max(x+y)\n",
    "        # min_ = min(x+y)\n",
    "        # \n",
    "        # ax.set_xlim(min_, max_)\n",
    "        # ax.set_ylim(min_, max_)\n",
    "\n",
    "        # ticks_positions = [round(j, 2) for j in np.linspace(min_, max_, 3)]\n",
    "\n",
    "        # ax.set_xticks(ticks_positions)\n",
    "        # ax.set_yticks(ticks_positions)\n",
    "\n",
    "        # ax.set_aspect(1)\n",
    "        \n",
    "    plt.tight_layout()\n",
    "    plt.show()"
   ],
   "metadata": {
    "collapsed": false,
    "pycharm": {
     "name": "#%%\n",
     "is_executing": false
    }
   }
  },
  {
   "cell_type": "code",
   "execution_count": 383,
   "outputs": [
    {
     "data": {
      "text/plain": "<Figure size 360x720 with 2 Axes>",
      "image/png": "[encoded data removed]"
     },
     "metadata": {
      "needs_background": "light"
     },
     "output_type": "display_data"
    }
   ],
   "source": [
    "scatter(param_rcv)"
   ],
   "metadata": {
    "collapsed": false,
    "pycharm": {
     "name": "#%%\n",
     "is_executing": false
    }
   }
  },
  {
   "cell_type": "code",
   "execution_count": 384,
   "outputs": [],
   "source": [
    "def correlation(x, y):\n",
    "    cor, p = scipy.stats.pearsonr(x, y)\n",
    "    return cor, p\n"
   ],
   "metadata": {
    "collapsed": false,
    "pycharm": {
     "name": "#%%\n",
     "is_executing": false
    }
   }
  },
  {
   "cell_type": "markdown",
   "source": [
    "\\begin{equation}\n",
    "\\text{BIC} = - 2 \\log p(D\\mid {\\widehat {\\theta }},M) + k \\log(T)\n",
    "\\end{equation}"
   ],
   "metadata": {
    "collapsed": false
   }
  },
  {
   "cell_type": "code",
   "execution_count": 385,
   "outputs": [],
   "source": [
    "def bic(ll, k, n_iteration):\n",
    "    return -2 *ll + k * np.log(n_iteration)"
   ],
   "metadata": {
    "collapsed": false,
    "pycharm": {
     "name": "#%%\n",
     "is_executing": false
    }
   }
  }
 ],
 "metadata": {
  "kernelspec": {
   "display_name": "Python 3",
   "language": "python",
   "name": "python3"
  },
  "language_info": {
   "codemirror_mode": {
    "name": "ipython",
    "version": 3
   },
   "file_extension": ".py",
   "mimetype": "text/x-python",
   "name": "python",
   "nbconvert_exporter": "python",
   "pygments_lexer": "ipython3",
   "version": "3.7.5"
  },
  "pycharm": {
   "stem_cell": {
    "cell_type": "raw",
    "source": [],
    "metadata": {
     "collapsed": false
    }
   }
  }
 },
 "nbformat": 4,
 "nbformat_minor": 2
}