{
 "cells": [
  {
   "cell_type": "markdown",
   "metadata": {},
   "source": [
    "![title](img/decisionmaking.png)\n",
    "\n",
    "# Modeling decision making"
   ]
  },
  {
   "cell_type": "markdown",
   "source": [
    "Begin by the beginning: import the modules"
   ],
   "metadata": {
    "collapsed": false
   }
  },
  {
   "cell_type": "code",
   "execution_count": 13,
   "metadata": {
    "pycharm": {
     "is_executing": false,
     "name": "#%%\n"
    }
   },
   "outputs": [],
   "source": [
    "import os\n",
    "import pickle\n",
    "import numpy as np\n",
    "import matplotlib.pyplot as plt\n",
    "from matplotlib.ticker import MaxNLocator\n",
    "import pandas as pd\n",
    "import scipy.optimize\n",
    "import statsmodels.stats\n",
    "import scipy.stats\n",
    "from tqdm.notebook import tqdm\n",
    "\n",
    "EPS = np.finfo(np.float).eps"
   ]
  },
  {
   "cell_type": "markdown",
   "metadata": {
    "pycharm": {
     "name": "#%% md\n"
    }
   },
   "source": [
    "## 1. Task model & Cognitive models\n",
    "\n",
    "### 1.1 Task definition\n",
    "\n",
    "**Goal**\n",
    "\n",
    "- Check the adequacy with the question you want to reply to\n",
    "- Select adequate characteristics (i.e., enough time-steps) \n",
    "\n",
    "**Example: Bandit task**\n",
    "\n",
    "![bandit](img/multiarmedbandit.jpg)\n",
    "\n",
    "Parameters: \n",
    "* Number of option ($N$)\n",
    "* Distribution of probability over these options ($\\{p_{reward}(i)\\}_{i\\in N}$)\n",
    "* Number of trials ($T$)"
   ]
  },
  {
   "cell_type": "code",
   "execution_count": 14,
   "metadata": {
    "pycharm": {
     "is_executing": false,
     "name": "#%%\n"
    }
   },
   "outputs": [],
   "source": [
    "N = 2\n",
    "P = np.array([0.5, 0.75])\n",
    "T = 500\n",
    "\n",
    "N_SUBJECTS = 30"
   ]
  },
  {
   "cell_type": "markdown",
   "metadata": {
    "pycharm": {
     "name": "#%% md\n"
    }
   },
   "source": [
    "### 1.2 Models definition\n",
    "\n",
    "**Goal**\n",
    "\n",
    "- Select/Define which aspect(s) you want to model\n",
    "- Model alternatives\n",
    "\n",
    "<img src=\"img/coin.png\" width=200>\n",
    "\n",
    "**Random selection**\n",
    "\n",
    "* Decision rule:\n",
    "\n",
    "\\begin{equation}\n",
    "p_{choice}(i) \\sim \\text{Uniform}\n",
    "\\end{equation}\n",
    "\n",
    "<img src=\"img/wsls.png\" width=200>\n",
    "\n",
    "**Win-Stay-Loose-Switch (Noisy variant)**\n",
    "\n",
    "* Decision rule ($\\epsilon$)\n",
    "\n",
    "\\begin{equation}\n",
    "p_{choice}(i) = \n",
    "\\begin{cases}\n",
    "1−\\epsilon+\\epsilon / N &\\text{if } r_{t−1} =1 \\wedge c_{t−1} = i,\\\\\n",
    "\\epsilon / N &\\text{if } r_{t−1} =1 \\wedge c_{t−1} \\neq i,\\\\\n",
    "\\dfrac{1−\\epsilon}{N-1} + \\epsilon / N & \\text {otherwise.}\\\\\n",
    "\\end{cases}\n",
    "\\end{equation}\n",
    "\n",
    "\n",
    "<img src=\"img/rw_illustration.png\" width=200>\n",
    "\n",
    "**Rescola-Wagner**\n",
    "\n",
    "* Decision rule ($\\beta$)\n",
    "\n",
    "\\begin{equation}\n",
    "p_{choice}(i) = \\dfrac{\\exp (Q(i)/\\beta)}{\\sum_{j \\in N} \\exp (Q(j)/\\beta)} \n",
    "\\end{equation}\n",
    "\n",
    "* Updating rule ($\\alpha$)\n",
    "\n",
    "\\begin{equation}\n",
    "Q^{t+1}(i) = Q^t(i) + \\alpha(s - Q^t(i))\n",
    "\\end{equation}\n",
    "\n",
    "\n",
    "![rw](img/status_quo.jpg)\n",
    "\n",
    "**Rescola-Wagner-Choice-Kernel\n",
    "\n",
    "* Decision rule ($\\beta_q$, $\\beta_c$)\n",
    "\n",
    "\\begin{equation}\n",
    "p_{choice}(i) = \\dfrac{\\exp (Q(i)/\\beta_q+ C(i)/\\beta_c)}{\\sum_{j \\in N} \n",
    "\\exp (Q(j)/\\beta_q+ C(j)/\\beta_c)} \n",
    "\\end{equation}\n",
    "\n",
    "* Updating rule ($\\alpha$)\n",
    "\n",
    "\\begin{align}\n",
    "Q^{t+1}(i) &= Q^t(i) + \\alpha(s - Q^t(i)) \\\\\n",
    "C^{t+1}(i) &= C^t(i) + \\alpha(a^t(i) - C^t(i)) \\\\\n",
    "\\end{align}\n",
    "where $a^t(i) = 1$ if option $i$ selected at time $t$ else 0.\n",
    "\n",
    "# 3. Simulate "
   ]
  },
  {
   "cell_type": "code",
   "execution_count": 14,
   "metadata": {
    "pycharm": {
     "is_executing": false,
     "name": "#%%\n"
    }
   },
   "outputs": [],
   "source": []
  },
  {
   "cell_type": "markdown",
   "metadata": {
    "pycharm": {
     "name": "#%% md\n"
    }
   },
   "source": [
    "Determine the (log) likelihood of your model:\n",
    "\n",
    "\\begin{equation}\n",
    "\\log p(D \\mid M, \\theta) = \\sum_{d \\in D} \\log p(d \\mid M, \\theta)\n",
    "\\end{equation}\n"
   ]
  },
  {
   "cell_type": "markdown",
   "metadata": {},
   "source": [
    "\\begin{equation}\n",
    "\\text{BIC} = - 2 \\log p(D\\mid {\\widehat {\\theta }},M) + k \\log(T)\n",
    "\\end{equation}"
   ]
  },
  {
   "cell_type": "code",
   "execution_count": 15,
   "metadata": {
    "pycharm": {
     "is_executing": false,
     "name": "#%%\n"
    }
   },
   "outputs": [],
   "source": [
    "def bic(ll, k, n_iteration):\n",
    "    return -2 *ll + k * np.log(n_iteration)"
   ]
  }
 ],
 "metadata": {
  "kernelspec": {
   "display_name": "Python 3",
   "language": "python",
   "name": "python3"
  },
  "language_info": {
   "codemirror_mode": {
    "name": "ipython",
    "version": 3
   },
   "file_extension": ".py",
   "mimetype": "text/x-python",
   "name": "python",
   "nbconvert_exporter": "python",
   "pygments_lexer": "ipython3",
   "version": "3.7.5"
  },
  "pycharm": {
   "stem_cell": {
    "cell_type": "raw",
    "source": [],
    "metadata": {
     "collapsed": false
    }
   }
  }
 },
 "nbformat": 4,
 "nbformat_minor": 2
}