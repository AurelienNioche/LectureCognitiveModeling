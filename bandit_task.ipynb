{
 "cells": [
  {
   "cell_type": "code",
   "execution_count": 11,
   "metadata": {
    "collapsed": true,
    "pycharm": {
     "is_executing": false
    }
   },
   "outputs": [
    {
     "data": {
      "text/plain": "VBox(children=(Button(button_style='info', description='Option 1', style=ButtonStyle()), Button(button_style='…",
      "application/vnd.jupyter.widget-view+json": {
       "version_major": 2,
       "version_minor": 0,
       "model_id": "81697c01fa5445bcb79b6ec8b412d4f8"
      }
     },
     "metadata": {},
     "output_type": "display_data"
    },
    {
     "data": {
      "text/plain": "Output()",
      "application/vnd.jupyter.widget-view+json": {
       "version_major": 2,
       "version_minor": 0,
       "model_id": "b9ef33f9f71a4c3cb0647e829f949bcc"
      }
     },
     "metadata": {},
     "output_type": "display_data"
    },
    {
     "data": {
      "text/plain": "<__main__.BanditApplication at 0x11efc6310>"
     },
     "metadata": {},
     "output_type": "execute_result",
     "execution_count": 11
    }
   ],
   "source": [
    "import os\n",
    "import ipywidgets as widgets\n",
    "from IPython.display import display\n",
    "import matplotlib.pyplot as plt; plt.rcdefaults()\n",
    "from datetime import datetime\n",
    "import numpy as np\n",
    "import pickle\n",
    "import glob\n",
    "\n",
    "BKP_FOLDER = os.path.join(\"bkp\", \"bandit_task\")\n",
    "os.makedirs(BKP_FOLDER, exist_ok=True)\n",
    "\n",
    "\n",
    "class BanditApplication:\n",
    "    \n",
    "    def __init__(self, labels, prob_dist, n_iteration):\n",
    "        \n",
    "        assert len(prob_dist) == len(labels)\n",
    "        \n",
    "        self.time_stamp = datetime.utcnow()\n",
    "        \n",
    "        self.labels = labels\n",
    "        self.prob_dist = prob_dist\n",
    "        self.hist = []\n",
    "        \n",
    "        self.n_iteration = n_iteration\n",
    "        \n",
    "        self.t = 0\n",
    "        self.s = 0\n",
    "        \n",
    "        self.next_button = widgets.Button(\n",
    "            description='???', \n",
    "            button_style='', \n",
    "            disabled=False)\n",
    "        \n",
    "        self.counter = widgets.Label(self.str_counter_value())\n",
    "        self.score = widgets.Label(self.str_score_value())\n",
    "        \n",
    "        \n",
    "        self.output = widgets.Output()\n",
    "        \n",
    "        self.elements = self.get_elements()\n",
    "        self.menu = widgets.VBox(self.elements)\n",
    "        \n",
    "        display(self.menu, self.output)\n",
    "        \n",
    "    def on_next_clicked(self, b):\n",
    "        \n",
    "        self.t += 1\n",
    "        \n",
    "        self.next_button.disabled = True\n",
    "        self.next_button.description = '???'\n",
    "        self.next_button.button_style = ''\n",
    "        \n",
    "        self.enable_choice(True)\n",
    "        \n",
    "        self.update_counter()\n",
    "        self.update_score()\n",
    "        \n",
    "        if self.t == self.n_iteration:\n",
    "            self.end_task()\n",
    "    \n",
    "    def on_button_clicked(self, b):\n",
    "        \n",
    "        with self.output:\n",
    "            idx_button = self.labels.index(b.description)\n",
    "            self.hist.append(idx_button)\n",
    "            self.enable_choice(False)\n",
    "            self.next_button.disabled = False\n",
    "            self.determine_success()\n",
    "        \n",
    "    def get_elements(self):\n",
    "    \n",
    "        elements = []\n",
    "        for label in self.labels:\n",
    "            \n",
    "            # if label == \"-\":\n",
    "            #     elements.append(widgets.Label(\" \"))\n",
    "            # \n",
    "            # else:\n",
    "            element = widgets.Button(description=label, \n",
    "                                     button_style='info', \n",
    "                                     disabled=False)\n",
    "            element.on_click(self.on_button_clicked)\n",
    "            elements.append(element)\n",
    "        \n",
    "        self.next_button.on_click(self.on_next_clicked)\n",
    "        elements.append(self.next_button)\n",
    "        elements.append(self.counter)\n",
    "        elements.append(self.score)\n",
    "\n",
    "        return elements\n",
    "    \n",
    "    def update_counter(self):\n",
    "        self.counter.value = self.str_counter_value()\n",
    "        \n",
    "    def update_score(self):\n",
    "        self.score.value = self.str_score_value()\n",
    "    \n",
    "    def determine_success(self):\n",
    "        \n",
    "        random_number = np.random.random()\n",
    "        p_success = self.prob_dist[self.hist[-1]]\n",
    "        \n",
    "        success = p_success > random_number\n",
    "        \n",
    "        if success:\n",
    "            self.s += 1\n",
    "            self.next_button.button_style = 'success'\n",
    "            self.next_button.description = \"SUCCESS\"\n",
    "        else:\n",
    "            self.next_button.button_style = 'danger'\n",
    "            self.next_button.description = \"FAILURE\"\n",
    "        \n",
    "    def str_counter_value(self):\n",
    "        return f\"Trial {self.t} [{(self.t/self.n_iteration)*100:.2f}%]\"\n",
    "    \n",
    "    def str_score_value(self):\n",
    "        return f\"Score: {self.s} pt(s)\"\n",
    "    \n",
    "    def end_task(self):\n",
    "        \n",
    "        self.enable_choice(False)\n",
    "        self.next_button.description = 'Thank you!'\n",
    "        self.score.value = self.str_score_value() + \" ...CONGRATS!\"        \n",
    "        self.counter.value = self.str_counter_value() + \" Done!\"\n",
    "        self.backup_results()\n",
    "        \n",
    "    def backup_results(self):\n",
    "        \n",
    "        str_time_stamp = \\\n",
    "            str(datetime.utcnow())\\\n",
    "                .replace(\" \", \"_\")\\\n",
    "                .replace(\":\", \"-\")\\\n",
    "                .replace(\".\", \"-\")\n",
    "        \n",
    "        bkp_file = os.path.join(BKP_FOLDER, f\"{str_time_stamp}.p\")\n",
    "        \n",
    "        results = {\n",
    "            'time_stamp': self.time_stamp,\n",
    "            'data': self.hist,\n",
    "            'prob_dist': self.prob_dist\n",
    "        }\n",
    "        pickle.dump(results, open(bkp_file, 'wb'))\n",
    "        \n",
    "    def enable_choice(self, value):\n",
    "        \n",
    "        for i in range(len(self.labels)):\n",
    "            self.elements[i].disabled = not value\n",
    "\n",
    "BanditApplication(labels=[\"Option 1\", \"Option 2\"], \n",
    "                  prob_dist=[0.2, 0.8],\n",
    "                  n_iteration=10)"
   ]
  },
  {
   "cell_type": "code",
   "execution_count": 12,
   "outputs": [
    {
     "name": "stdout",
     "text": [
      "time_stamp\n 2019-11-12 13:44:13.793439 \n\nprob_dist\n [0.2, 0.8] \n\ndata\n [0, 1, 1, 0, 1, 1, 1, 1, 1, 1] \n\n==========\ntime_stamp\n 2019-11-12 13:48:10.445325 \n\nprob_dist\n [0.2, 0.8] \n\ndata\n [0, 1, 1, 0, 1, 0, 0, 1, 0, 0] \n\n==========\n"
     ],
     "output_type": "stream"
    }
   ],
   "source": [
    "def show_data():\n",
    "    \n",
    "    data_files = glob.glob(os.path.join(BKP_FOLDER, '*.p'))\n",
    "    \n",
    "    for i, df in enumerate(data_files):\n",
    "        r = pickle.load(open(df, 'rb'))\n",
    "        \n",
    "        for key in sorted(r.keys(), reverse=True):\n",
    "            print(f'{key}\\n', r[key], '\\n')\n",
    "        \n",
    "        print(\"=\" * 10)\n",
    "\n",
    "show_data()"
   ],
   "metadata": {
    "collapsed": false,
    "pycharm": {
     "name": "#%%\n",
     "is_executing": false
    }
   }
  }
 ],
 "metadata": {
  "kernelspec": {
   "display_name": "Python 3",
   "language": "python",
   "name": "python3"
  },
  "language_info": {
   "codemirror_mode": {
    "name": "ipython",
    "version": 2
   },
   "file_extension": ".py",
   "mimetype": "text/x-python",
   "name": "python",
   "nbconvert_exporter": "python",
   "pygments_lexer": "ipython2",
   "version": "2.7.6"
  },
  "pycharm": {
   "stem_cell": {
    "cell_type": "raw",
    "source": [],
    "metadata": {
     "collapsed": false
    }
   }
  }
 },
 "nbformat": 4,
 "nbformat_minor": 0
}