{
 "cells": [
  {
   "cell_type": "markdown",
   "metadata": {},
   "source": [
    "# ELEC-E7851 - Computational User Interface Design\n",
    "# Lecture 10 - Modeling decision making\n",
    "\n",
    "# Assignment 10\n",
    "\n",
    "### Goal \n",
    "\n",
    "Try out a new model and conduct a (very) small user-study in order to have an insight about what is the best model to explain human behavior in the context of a dual bandit task. \n",
    "\n",
    "### Due date\n",
    "\n",
    "05/12/2019 - 11.59 pm.\n",
    "\n",
    "### Deliverable\n",
    "\n",
    "* ZIP file containing a Jupyter Notebook and (if appicable) dependencies.\n",
    "* PDF document that is the printed version of your Notebook. \n",
    "\n",
    "## A10.1. Implement and test a new decision making model (10 pts)\n",
    "\n",
    "Follow the structure of the assignment and make sure to answer all questions, and discuss your results!\n",
    "\n",
    "\n",
    "## 0. Class evaluation (1 pt)\n",
    "\n",
    "Please complete the evaluation for the class at: https://docs.google.com/forms/d/e/1FAIpQLSdilXC3Hg1eBjzm0T8jHBxBydjJdZUnIJ3p991L8OHXRi0W-Q/viewform?usp=sf_link\n",
    "\n",
    "\n",
    "## 1. Implement a new model (2 pt)\n",
    "\n",
    "### Rescorla-Wagner with side bias\n",
    "\n",
    "This new model assume that the subject learn by reinforcement, but has also a preference more for one side than the other (for instance, the subject prefer the rightmost option because he is righthanded).\n",
    "\n",
    "* **Decision rule** ($\\beta_q$, $\\beta_b$)\n",
    "\n",
    "Let's define the probability of choosing option $i$ such as:\n",
    "\n",
    "\\begin{equation}\n",
    "p_{choice}(i) = \\dfrac{\\exp (\\beta_q Q(i) + \\beta_b B(i))}{\\sum_{j \\in N} \\exp (\\beta_q Q(j) + \\beta_b B(j))} \n",
    "\\end{equation}\n",
    "\n",
    "with $\\beta_q \\in [0,\\infty]$, $\\beta_b \\in [-\\infty, \\infty]$, and $B(i) \\in \\mathbb{R}$ the distance of option $i$ to the middle. More precisely: \n",
    "\n",
    "\\begin{equation}\n",
    "B(i) = x_i - \\dfrac{N-1}{2}\n",
    "\\end{equation}\n",
    "\n",
    "with $x_i = 0$, if $i$ is the leftmost option, $x_i = 1$ if $i$ is the second leftmost option, ..., $x_i = (N-1)$ if $i$ is the rightmost option.\n",
    "\n",
    "Note that $\\beta_b$ is defined over $[-\\infty, \\infty]$ to allow both left-bias and right bias.\n",
    "\n",
    "* **Updating rule** ($\\alpha$)\n",
    "\n",
    "The updating rule for the q-values is unchanged:\n",
    "\n",
    "\\begin{equation}\n",
    "Q^{t+1}(i) = Q^t(i) + \\alpha(s - Q^t(i))\n",
    "\\end{equation}\n",
    "with $s = 1$ if success, $0$ otherwise. \n",
    "\n",
    "**Tips:**\n",
    "\n",
    "- Inherit from the RW class that is defined in the lecture's Notebook\n",
    "- Use the same bandit configuration as in class."
   ]
  },
  {
   "cell_type": "code",
   "execution_count": null,
   "metadata": {},
   "outputs": [],
   "source": [
    "# Your new model\n",
    "\n"
   ]
  },
  {
   "cell_type": "markdown",
   "metadata": {},
   "source": [
    "Q: **How do you expect your new model to behave given different $\\beta_b$?** (1-2 sentences, ~40 words)\\\n",
    "A: ..."
   ]
  },
  {
   "cell_type": "markdown",
   "metadata": {},
   "source": [
    "## 2. Complete the a priori analysis of the new model (4 pts)\n",
    "\n",
    "Go through section 2 to 5 of the class, but instead of taking as object the Rescola-Wagner's model, consider the new model.\n",
    "\n",
    "**Tips**:\n",
    "- Important: Do not copy the `@use_pickle` annotations from the lecture notebook\n",
    "\n",
    "### Exploratory Simulations (1 pt)\n",
    "\n",
    "- Simulate only your new model\n",
    "- After each section, discuss your results and argue why it fits or does not fit your expectations.\n",
    "\n",
    "#### 1. Simulate a single agent\n",
    "**Tips**:\n",
    "- You can simply reuse the existing `run_simulation` function!\n",
    "- Use a left or right-sided biased model.\n",
    "\n",
    "Q: **What bias did you use and how did that show in the first results?**\\\n",
    "A: ..."
   ]
  },
  {
   "cell_type": "markdown",
   "metadata": {},
   "source": [
    "#### 2. Analysis of latent variable\n",
    "Since we have new parameters in the new model, you need to create a new function `latent_variables_rwsb` to analyze the latent variables.\n",
    "Please create a **new plot** to show the B-values. Discuss your plots, and mention how the bias is visible or not.\n",
    "\n",
    "**Tips:**\n",
    "- You can reuse the plotting function from the lecture for the Q-values and the choice probabilities.\n",
    "- The B-values plot might look very simple / not very informative"
   ]
  },
  {
   "cell_type": "markdown",
   "metadata": {},
   "source": [
    "#### 3. Simulation of homogeneous agents\n",
    "\n",
    "Create a new function `latent_variables_rwsb_pop` for getting the latent variables of the new model. Discuss the results, and answer how it compares to the single agent results.\n",
    "\n",
    "**Tips:**\n",
    "- You can use the function `run_sim_pop` from the lecture. \n",
    "- Make sure to add the b-values in the new function. \n",
    "- The plotting function can be reused.\n",
    "- You do not have to plot the B-values here anymore"
   ]
  },
  {
   "cell_type": "markdown",
   "metadata": {},
   "source": [
    "#### 4. Effect of free parameter\n",
    "Plot $\\alpha$, $\\beta_q$ and $\\beta_b$. Keep the other parameters fixed at a certain point. Plot the new free parameter $\\beta_b$ so that on the x-axis the different options are shown, and on the y-axis the probability of choice for different values. Discuss the plots, especially how the new parameter affects the choice probability.\n",
    "\n",
    "**Tips:**\n",
    "- You can follow the same approach to the first two parameters from the lecture."
   ]
  },
  {
   "cell_type": "markdown",
   "metadata": {},
   "source": [
    "### Parameter recovery (1 pt)\n",
    "**Tips:**\n",
    "- You can reuse the `BanditOptimizer` and the `log_likelihood` function.\n",
    "\n",
    "#### 1. Try with a single agent\n",
    "Recover the best-fit parameters for a single agent for the new model and plot the comparison. Describe how good the recovered parameters fit the true parameters.\n",
    "\n",
    "**Tips:**\n",
    "- You can reuse the functions from the lecture notebook"
   ]
  },
  {
   "cell_type": "markdown",
   "metadata": {},
   "source": [
    "#### 2. Explore the behavior of the likelihood function over the parameter space\n",
    "\n",
    "Plot the results for every free parameter recovery separately. Comment what you observe. Is there only one minimum?\n",
    "\n",
    "**Tips:**\n",
    "- Reuse the function `parameter_space_exploration`\n",
    "- Since there are more than 2 parameters you need to use the method from the supplementary section\n"
   ]
  },
  {
   "cell_type": "markdown",
   "metadata": {},
   "source": [
    "#### 3. Try with a homogeneous population\n",
    "\n",
    "Comment what you observe.\n",
    "\n",
    "**Tips:**\n",
    "- Use your previously created function `latent_variables_rwsb_pop`\n",
    "- Plot with the same function as in the lecture notebook `plot.comparison_best_fit_rw_pop`"
   ]
  },
  {
   "cell_type": "markdown",
   "metadata": {},
   "source": [
    "#### 4. Systematize the process\n",
    "\n",
    "Create the correlation plots following the lecture content and do the short statistical analysis. Comment what you observe.\n",
    "\n",
    "**Tips**:\n",
    "- You can reuse the methods from the lecture"
   ]
  },
  {
   "cell_type": "markdown",
   "metadata": {},
   "source": [
    "### Model recovery (1 pt)\n",
    "\n",
    "Add your new model to the list of models to be tried.\n",
    "\n",
    "\n",
    "#### 1. Try with a single agent\n",
    "\n",
    "Perform the model recovery for one agent and comment what you observe. Is the new model recovered correctly?\n",
    "\n",
    "**Tips:**\n",
    "- Reuse the methods from the lecture notebook"
   ]
  },
  {
   "cell_type": "markdown",
   "metadata": {},
   "source": [
    "#### 2. Systematize the approach\n",
    "\n",
    "Since the computation can take a long time, you can reduce the number of simulated agents per model (`N_SETS_CONF`) to 20-30.\n",
    "Describe how good your recovery is.\n",
    "\n",
    "**Tips:**\n",
    "- Reuse the methods from the lecture notebook\n",
    "- The calculations can take a while (>5-10min)"
   ]
  },
  {
   "cell_type": "markdown",
   "metadata": {},
   "source": [
    "### Artificial experiment (1 pt)\n",
    "\n",
    "Consider two cases:\n",
    "- 30 subjects as in the lecture\n",
    "- 4 subjects as in the mini-study in the end\n",
    "\n",
    "Comment on the differences.\n",
    "\n",
    "#### 1. Generate data\n",
    "\n",
    "Define the normal distribution parameters ($\\mu, \\sigma$) for each model parameter. Comment what you observe.\n",
    "\n",
    "**Tips:**\n",
    "- If you do not know which $\\mu$ and $\\sigma$ to choose, try different values and look at the differences\n",
    "- Reuse the methods from the lecture\n"
   ]
  },
  {
   "cell_type": "markdown",
   "metadata": {},
   "source": [
    "#### 2. Compare the models\n",
    "\n",
    "Plot the results as in the lecture notebook. Describe what you observe (can you recover the correct model?).\n",
    "\n",
    "**Tips**\n",
    "- You can reuse the methods from the lecture\n"
   ]
  },
  {
   "cell_type": "markdown",
   "metadata": {},
   "source": [
    "#### 3. Study the distribution of your best-fit parameters\n",
    "\n",
    "Plot the results as in the lecture notebook. Describe what you observe.\n",
    "\n",
    "**Tips**\n",
    "- You can reuse the methods from the lecture\n"
   ]
  },
  {
   "cell_type": "markdown",
   "metadata": {},
   "source": [
    "#### 4. Simulate with the best-fit parameters\n",
    "\n",
    "Plot the results as in the lecture notebook. Describe what you observe.\n",
    "\n",
    "**Tips**\n",
    "- Use your previously created function `latent_variables_rwsb_pop`\n",
    "- For the rest, you can reuse the methods from the lecture\n"
   ]
  },
  {
   "cell_type": "markdown",
   "metadata": {},
   "source": [
    "\n",
    "## 3. Conduct a mini-study (3 pts)\n",
    "\n",
    "Conduct a mini-study with 4 participants. Conduct the analysis described in the Section 5 with your own data. Does the new model provides a better explanation of your data, compared to a 'pure' Rescola-Wagner model? Justify. "
   ]
  },
  {
   "cell_type": "markdown",
   "metadata": {},
   "source": []
  }
 ],
 "metadata": {
  "kernelspec": {
   "display_name": "Python 3",
   "language": "python",
   "name": "python3"
  },
  "language_info": {
   "codemirror_mode": {
    "name": "ipython",
    "version": 3
   },
   "file_extension": ".py",
   "mimetype": "text/x-python",
   "name": "python",
   "nbconvert_exporter": "python",
   "pygments_lexer": "ipython3",
   "version": "3.7.3"
  }
 },
 "nbformat": 4,
 "nbformat_minor": 2
}
